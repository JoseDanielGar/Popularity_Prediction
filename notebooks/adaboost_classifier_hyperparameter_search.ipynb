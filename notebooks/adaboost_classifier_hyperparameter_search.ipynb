{
 "cells": [
  {
   "cell_type": "markdown",
   "id": "fd4bd49d",
   "metadata": {},
   "source": [
    "# Búsqueda de Hiperparámetros con AdaBoost classifier\n",
    "\n",
    "Este notebook realiza la búsqueda de hiperparámetros para un modelo usando AdaBoost con las siguientes características:\n",
    "\n",
    "- Carga de datos de entrenamiento desde archivos CSV\n",
    "- Balanceo del conjunto de datos mediante undersampling\n",
    "- Búsqueda de hiperparámetros con Grid Search\n",
    "- Validación cruzada para evaluación robusta\n",
    "- División balanceada para validación (15% del conjunto de entrenamiento)\n",
    "- Visualización de métricas de clasificación para los mejores modelos\n",
    "\n",
    "**Autor:** ML Engineer  \n",
    "**Fecha:** 6 de Septiembre, 2025"
   ]
  },
  {
   "cell_type": "markdown",
   "id": "448906ee",
   "metadata": {},
   "source": [
    "## 1. Importar Librerías Requeridas\n",
    "\n",
    "Importar todas las librerías necesarias para el análisis, modelado y visualización."
   ]
  },
  {
   "cell_type": "code",
   "execution_count": 1,
   "id": "0e80f500",
   "metadata": {},
   "outputs": [
    {
     "name": "stdout",
     "output_type": "stream",
     "text": [
      "✓ Librerías importadas exitosamente!\n",
      "Pandas versión: 2.3.2\n",
      "NumPy versión: 2.3.2\n",
      "Scikit-learn disponible para GridSearchCV y AdaBoostClassifier\n"
     ]
    }
   ],
   "source": [
    "import pandas as pd\n",
    "import numpy as np\n",
    "import matplotlib.pyplot as plt\n",
    "import seaborn as sns\n",
    "import warnings\n",
    "from sklearn.model_selection import (\n",
    "    GridSearchCV, \n",
    "    train_test_split, \n",
    "    cross_val_score, \n",
    "    StratifiedShuffleSplit\n",
    ")\n",
    "from sklearn.metrics import (\n",
    "    accuracy_score,\n",
    "    precision_score,\n",
    "    recall_score,\n",
    "    f1_score,\n",
    "    roc_auc_score,\n",
    "    confusion_matrix,\n",
    "    classification_report\n",
    ")\n",
    "\n",
    "from sklearn.preprocessing import LabelBinarizer\n",
    "from sklearn.ensemble import AdaBoostClassifier\n",
    "from sklearn.tree import DecisionTreeClassifier\n",
    "from imblearn.under_sampling import RandomUnderSampler\n",
    "import joblib\n",
    "from datetime import datetime\n",
    "\n",
    "# Configuración de visualización\n",
    "plt.style.use('seaborn-v0_8')\n",
    "sns.set_palette(\"husl\")\n",
    "warnings.filterwarnings('ignore')\n",
    "\n",
    "# Configuración de pandas\n",
    "pd.set_option('display.max_columns', None)\n",
    "pd.set_option('display.width', None)\n",
    "pd.set_option('display.max_colwidth', 50)\n",
    "\n",
    "print(\"✓ Librerías importadas exitosamente!\")\n",
    "print(f\"Pandas versión: {pd.__version__}\")\n",
    "print(f\"NumPy versión: {np.__version__}\")\n",
    "print(f\"Scikit-learn disponible para GridSearchCV y AdaBoostClassifier\")"
   ]
  },
  {
   "cell_type": "markdown",
   "id": "3fcc74f6",
   "metadata": {},
   "source": [
    "## 2. Cargar Datos de Entrenamiento\n",
    "\n",
    "Cargar las características y variables objetivo desde los archivos CSV generados en el proceso de preparación de datos."
   ]
  },
  {
   "cell_type": "code",
   "execution_count": 2,
   "id": "7e4a3da5",
   "metadata": {},
   "outputs": [
    {
     "name": "stdout",
     "output_type": "stream",
     "text": [
      "CARGA DE DATOS DE ENTRENAMIENTO\n",
      "==================================================\n",
      "✓ Características cargadas desde: ../data/train/X_train.csv\n",
      "  • Forma: (91199, 18)\n",
      "  • Características: 18\n",
      "✓ Variable objetivo cargada desde: ../data/train/y_train.csv\n",
      "  • Forma: (91199,)\n",
      "\n",
      "✓ Datos cargados exitosamente!\n",
      "Total de registros: 91,199\n"
     ]
    }
   ],
   "source": [
    "# Definir rutas de los archivos\n",
    "X_train_path = '../data/train/X_train.csv'\n",
    "y_train_path = '../data/train/y_train.csv'\n",
    "\n",
    "print(\"CARGA DE DATOS DE ENTRENAMIENTO\")\n",
    "print(\"=\" * 50)\n",
    "\n",
    "# Cargar características (X_train)\n",
    "try:\n",
    "    X_train_full = pd.read_csv(X_train_path)\n",
    "    print(f\"✓ Características cargadas desde: {X_train_path}\")\n",
    "    print(f\"  • Forma: {X_train_full.shape}\")\n",
    "    print(f\"  • Características: {X_train_full.shape[1]}\")\n",
    "except FileNotFoundError:\n",
    "    raise FileNotFoundError(f\"Archivo no encontrado: {X_train_path}\")\n",
    "\n",
    "# Cargar variable objetivo (y_train)\n",
    "try:\n",
    "    y_train_full = pd.read_csv(y_train_path)\n",
    "    # Si es un DataFrame con una columna, convertir a Series\n",
    "    if isinstance(y_train_full, pd.DataFrame):\n",
    "        y_train_full = y_train_full.iloc[:, 0]\n",
    "    print(f\"✓ Variable objetivo cargada desde: {y_train_path}\")\n",
    "    print(f\"  • Forma: {y_train_full.shape}\")\n",
    "except FileNotFoundError:\n",
    "    raise FileNotFoundError(f\"Archivo no encontrado: {y_train_path}\")\n",
    "\n",
    "print(f\"\\n✓ Datos cargados exitosamente!\")\n",
    "print(f\"Total de registros: {len(X_train_full):,}\")"
   ]
  },
  {
   "cell_type": "code",
   "execution_count": 3,
   "id": "7def4419",
   "metadata": {},
   "outputs": [
    {
     "name": "stdout",
     "output_type": "stream",
     "text": [
      "✓ Variable objetivo codificada como binaria (0: no popular, 1: popular)\n",
      "popularity\n",
      "1    50906\n",
      "0    40293\n",
      "Name: count, dtype: int64\n"
     ]
    }
   ],
   "source": [
    "# Codificar la variable objetivo para que sea binaria.\n",
    "# Asumimos que la clase positiva es '1' y la negativa es '0'.\n",
    "# Si el valor de la variable objetivo es menor a 30, se considera como 0 (no popular),\n",
    "# y si es mayor o igual a 30, se considera como 1 (popular).\n",
    "y_train_full = (y_train_full >= 30).astype(int)\n",
    "print(\"✓ Variable objetivo codificada como binaria (0: no popular, 1: popular)\")\n",
    "print(y_train_full.value_counts())"
   ]
  },
  {
   "cell_type": "markdown",
   "id": "2e0621f8",
   "metadata": {},
   "source": [
    "## 3. División de datos para Validación\n",
    "\n",
    "Crear una división balanceada del 15% del conjunto de entrenamiento para validación final."
   ]
  },
  {
   "cell_type": "code",
   "execution_count": 4,
   "id": "fa4df186",
   "metadata": {},
   "outputs": [
    {
     "name": "stdout",
     "output_type": "stream",
     "text": [
      "DIVISIÓN BALANCEADA PARA VALIDACIÓN\n",
      "==================================================\n",
      "División completada:\n",
      "  • Conjunto de entrenamiento: 77,519 registros (85%)\n",
      "  • Conjunto de validación: 13,680 registros (15%)\n",
      "\n",
      "Balanceo en conjunto de validación:\n",
      "  • Clase 0: 6,044 registros (44.2%)\n",
      "  • Clase 1: 7,636 registros (55.8%)\n",
      "\n",
      "✓ División balanceada completada exitosamente!\n"
     ]
    }
   ],
   "source": [
    "# División balanceada para validación (15% del dataset balanceado)\n",
    "print(\"DIVISIÓN BALANCEADA PARA VALIDACIÓN\")\n",
    "print(\"=\" * 50)\n",
    "\n",
    "validation_size = 0.15\n",
    "\n",
    "# Usar train_test_split con estratificación para mantener el balanceo\n",
    "X_train, X_val, y_train, y_val = train_test_split(\n",
    "    X_train_full, y_train_full, \n",
    "    test_size=validation_size, \n",
    "    random_state=42, \n",
    "    shuffle=True,\n",
    "    stratify=y_train_full\n",
    ")\n",
    "\n",
    "print(f\"División completada:\")\n",
    "print(f\"  • Conjunto de entrenamiento: {len(X_train):,} registros ({(1-validation_size)*100:.0f}%)\")\n",
    "print(f\"  • Conjunto de validación: {len(X_val):,} registros ({validation_size*100:.0f}%)\")\n",
    "\n",
    "print(f\"\\nBalanceo en conjunto de validación:\")\n",
    "val_dist = y_val.value_counts().sort_index()\n",
    "for value, count in val_dist.items():\n",
    "    print(f\"  • Clase {value}: {count:,} registros ({count/len(y_val)*100:.1f}%)\")\n",
    "\n",
    "print(f\"\\n✓ División balanceada completada exitosamente!\")"
   ]
  },
  {
   "cell_type": "markdown",
   "id": "7d1bc31d",
   "metadata": {},
   "source": [
    "## 4. Configuración de Búsqueda de Hiperparámetros\n",
    "\n",
    "Definir la grilla de hiperparámetros y configurar GridSearchCV para AdaBoost."
   ]
  },
  {
   "cell_type": "code",
   "execution_count": 5,
   "id": "06136577",
   "metadata": {},
   "outputs": [
    {
     "name": "stdout",
     "output_type": "stream",
     "text": [
      "CONFIGURACIÓN DE GRILLA DE HIPERPARÁMETROS\n",
      "==================================================\n",
      "Grilla de hiperparámetros definida:\n",
      "  • n_estimators: [50, 100, 200, 300]\n",
      "  • learning_rate: [0.01, 0.1, 0.5, 1.0, 1.5]\n",
      "  • estimator__max_depth: [1, 2, 3, 4, 5]\n",
      "  • estimator__min_samples_split: [2, 5, 10]\n",
      "  • estimator__min_samples_leaf: [1, 2, 4]\n",
      "  • algorithm: ['SAMME', 'SAMME.R']\n",
      "\n",
      "Total de combinaciones: 1,800\n",
      "Validación cruzada: 5 folds\n",
      "Total de entrenamientos: 9,000\n"
     ]
    }
   ],
   "source": [
    "# Configuración de la grilla de hiperparámetros para AdaBoost\n",
    "print(\"CONFIGURACIÓN DE GRILLA DE HIPERPARÁMETROS\")\n",
    "print(\"=\" * 50)\n",
    "\n",
    "# Definir la grilla de hiperparámetros\n",
    "param_grid = {\n",
    "    'n_estimators': [50, 100, 200, 300],\n",
    "    'learning_rate': [0.01, 0.1, 0.5, 1.0, 1.5],\n",
    "    'estimator__max_depth': [1, 2, 3, 4, 5],\n",
    "    'estimator__min_samples_split': [2, 5, 10],\n",
    "    'estimator__min_samples_leaf': [1, 2, 4],\n",
    "    'algorithm': ['SAMME', 'SAMME.R']\n",
    "}\n",
    "\n",
    "print(f\"Grilla de hiperparámetros definida:\")\n",
    "total_combinations = 1\n",
    "for param, values in param_grid.items():\n",
    "    print(f\"  • {param}: {values}\")\n",
    "    total_combinations *= len(values)\n",
    "\n",
    "print(f\"\\nTotal de combinaciones: {total_combinations:,}\")\n",
    "\n",
    "# Configurar validación cruzada\n",
    "cv_folds = 5\n",
    "print(f\"Validación cruzada: {cv_folds} folds\")\n",
    "print(f\"Total de entrenamientos: {total_combinations * cv_folds:,}\")"
   ]
  },
  {
   "cell_type": "code",
   "execution_count": 6,
   "id": "30288dad",
   "metadata": {},
   "outputs": [
    {
     "name": "stdout",
     "output_type": "stream",
     "text": [
      "CONFIGURACIÓN DE GRIDSEARCHCV\n",
      "==================================================\n",
      "✓ GridSearchCV configurado:\n",
      "  • Estimador: AdaBoost Classifier\n",
      "  • Estimador base: Decision Tree Classifier\n",
      "  • Métrica de scoring: f1\n",
      "  • Folds de CV: 5\n",
      "  • Paralelización: Todos los cores disponibles\n",
      "  • Total de evaluaciones: 9,000\n",
      "\n",
      "🚀 Listo para ejecutar búsqueda de hiperparámetros...\n"
     ]
    }
   ],
   "source": [
    "# Configurar GridSearchCV\n",
    "print(\"CONFIGURACIÓN DE GRIDSEARCHCV\")\n",
    "print(\"=\" * 50)\n",
    "\n",
    "# Crear el modelo base con DecisionTreeClassifier como estimador base\n",
    "base_estimator = DecisionTreeClassifier(random_state=42)\n",
    "ada_model = AdaBoostClassifier(estimator=base_estimator, random_state=42)\n",
    "\n",
    "# Configurar GridSearchCV\n",
    "grid_search = GridSearchCV(\n",
    "    estimator=ada_model,\n",
    "    param_grid=param_grid,\n",
    "    cv=cv_folds,\n",
    "    scoring='f1',  # Métrica principal para optimización\n",
    "    n_jobs=-1,  # Usar todos los cores disponibles\n",
    "    verbose=1,  # Mostrar progreso\n",
    "    return_train_score=True\n",
    ")\n",
    "\n",
    "print(f\"✓ GridSearchCV configurado:\")\n",
    "print(f\"  • Estimador: AdaBoost Classifier\")\n",
    "print(f\"  • Estimador base: Decision Tree Classifier\")\n",
    "print(f\"  • Métrica de scoring: f1\")\n",
    "print(f\"  • Folds de CV: {cv_folds}\")\n",
    "print(f\"  • Paralelización: Todos los cores disponibles\")\n",
    "print(f\"  • Total de evaluaciones: {total_combinations * cv_folds:,}\")\n",
    "\n",
    "print(f\"\\n🚀 Listo para ejecutar búsqueda de hiperparámetros...\")"
   ]
  },
  {
   "cell_type": "markdown",
   "id": "d2b661f0",
   "metadata": {},
   "source": [
    "## 5. Ejecución de Búsqueda de Hiperparámetros\n",
    "\n",
    "Ejecutar GridSearchCV para encontrar los mejores hiperparámetros."
   ]
  },
  {
   "cell_type": "code",
   "execution_count": 7,
   "id": "31676eb7",
   "metadata": {},
   "outputs": [
    {
     "name": "stdout",
     "output_type": "stream",
     "text": [
      "🔍 INICIANDO BÚSQUEDA DE HIPERPARÁMETROS\n",
      "==================================================\n",
      "Inicio: 2025-09-06 17:33:42\n",
      "Esto puede tomar varios minutos...\n",
      "\n",
      "Fitting 5 folds for each of 1800 candidates, totalling 9000 fits\n",
      "\n",
      "✓ Búsqueda de hiperparámetros completada!\n",
      "Tiempo total: 3:17:54.639339\n",
      "Fin: 2025-09-06 20:51:37\n",
      "\n",
      "✓ Búsqueda de hiperparámetros completada!\n",
      "Tiempo total: 3:17:54.639339\n",
      "Fin: 2025-09-06 20:51:37\n"
     ]
    }
   ],
   "source": [
    "# Ejecutar búsqueda de hiperparámetros\n",
    "print(\"🔍 INICIANDO BÚSQUEDA DE HIPERPARÁMETROS\")\n",
    "print(\"=\" * 50)\n",
    "print(f\"Inicio: {datetime.now().strftime('%Y-%m-%d %H:%M:%S')}\")\n",
    "print(\"Esto puede tomar varios minutos...\\n\")\n",
    "\n",
    "# Ejecutar grid search\n",
    "start_time = datetime.now()\n",
    "grid_search.fit(X_train, y_train)\n",
    "end_time = datetime.now()\n",
    "\n",
    "duration = end_time - start_time\n",
    "print(f\"\\n✓ Búsqueda de hiperparámetros completada!\")\n",
    "print(f\"Tiempo total: {duration}\")\n",
    "print(f\"Fin: {end_time.strftime('%Y-%m-%d %H:%M:%S')}\")"
   ]
  },
  {
   "cell_type": "code",
   "execution_count": 8,
   "id": "212155f0",
   "metadata": {},
   "outputs": [
    {
     "name": "stdout",
     "output_type": "stream",
     "text": [
      "RESULTADOS DE LA BÚSQUEDA DE HIPERPARÁMETROS\n",
      "==================================================\n",
      "Mejores hiperparámetros encontrados:\n",
      "  • algorithm: SAMME\n",
      "  • estimator__max_depth: 5\n",
      "  • estimator__min_samples_leaf: 2\n",
      "  • estimator__min_samples_split: 10\n",
      "  • learning_rate: 1.5\n",
      "  • n_estimators: 300\n",
      "\n",
      "Mejor score (CV): 0.808961 (F1)\n",
      "\n",
      "✓ Mejor modelo obtenido y listo para evaluación\n"
     ]
    }
   ],
   "source": [
    "# Analizar resultados de la búsqueda\n",
    "print(\"RESULTADOS DE LA BÚSQUEDA DE HIPERPARÁMETROS\")\n",
    "print(\"=\" * 50)\n",
    "\n",
    "# Mejores hiperparámetros\n",
    "print(f\"Mejores hiperparámetros encontrados:\")\n",
    "for param, value in grid_search.best_params_.items():\n",
    "    print(f\"  • {param}: {value}\")\n",
    "\n",
    "print(f\"\\nMejor score (CV): {grid_search.best_score_:.6f} (F1)\")\n",
    "\n",
    "# Obtener el mejor modelo\n",
    "best_model = grid_search.best_estimator_\n",
    "print(f\"\\n✓ Mejor modelo obtenido y listo para evaluación\")"
   ]
  },
  {
   "cell_type": "markdown",
   "id": "9ce2ea09",
   "metadata": {},
   "source": [
    "## 6. Análisis de los Top 3 Modelos\n",
    "\n",
    "Analizar y comparar las métricas de los 3 mejores modelos encontrados."
   ]
  },
  {
   "cell_type": "code",
   "execution_count": 12,
   "id": "1e2cce2f",
   "metadata": {},
   "outputs": [
    {
     "name": "stdout",
     "output_type": "stream",
     "text": [
      "ANÁLISIS DE LOS TOP 3 MODELOS\n",
      "==================================================\n",
      "Top 3 configuraciones de hiperparámetros:\n",
      "========================================\n",
      "\n",
      "Modelo #1:\n",
      "  F1 Score: 0.808961 (±0.000783)\n",
      "  Parámetros: {'algorithm': 'SAMME', 'estimator__max_depth': 5, 'estimator__min_samples_leaf': 2, 'estimator__min_samples_split': 10, 'learning_rate': 1.5, 'n_estimators': 300}\n",
      "\n",
      "Modelo #2:\n",
      "  F1 Score: 0.808460 (±0.002378)\n",
      "  Parámetros: {'algorithm': 'SAMME', 'estimator__max_depth': 5, 'estimator__min_samples_leaf': 1, 'estimator__min_samples_split': 10, 'learning_rate': 1.5, 'n_estimators': 300}\n",
      "\n",
      "Modelo #2:\n",
      "  F1 Score: 0.808460 (±0.002378)\n",
      "  Parámetros: {'algorithm': 'SAMME', 'estimator__max_depth': 5, 'estimator__min_samples_leaf': 1, 'estimator__min_samples_split': 10, 'learning_rate': 1.5, 'n_estimators': 300}\n",
      "\n",
      "Modelo #3:\n",
      "  F1 Score: 0.808386 (±0.003443)\n",
      "  Parámetros: {'algorithm': 'SAMME', 'estimator__max_depth': 5, 'estimator__min_samples_leaf': 4, 'estimator__min_samples_split': 10, 'learning_rate': 1.5, 'n_estimators': 300}\n",
      "\n",
      "Modelo #3:\n",
      "  F1 Score: 0.808386 (±0.003443)\n",
      "  Parámetros: {'algorithm': 'SAMME', 'estimator__max_depth': 5, 'estimator__min_samples_leaf': 4, 'estimator__min_samples_split': 10, 'learning_rate': 1.5, 'n_estimators': 300}\n",
      "\n",
      "✓ Top 3 modelos entrenados y listos para evaluación\n",
      "\n",
      "✓ Top 3 modelos entrenados y listos para evaluación\n"
     ]
    }
   ],
   "source": [
    "# Obtener los top 3 modelos\n",
    "print(\"ANÁLISIS DE LOS TOP 3 MODELOS\")\n",
    "print(\"=\" * 50)\n",
    "\n",
    "# Crear DataFrame con todos los resultados\n",
    "results_df = pd.DataFrame(grid_search.cv_results_)\n",
    "\n",
    "# Ordenar por mejor score y obtener top 3\n",
    "top_3_results = results_df.nlargest(3, 'mean_test_score')\n",
    "\n",
    "print(f\"Top 3 configuraciones de hiperparámetros:\")\n",
    "print(\"=\" * 40)\n",
    "\n",
    "top_3_models = []\n",
    "top_3_params = []\n",
    "\n",
    "for i, (idx, row) in enumerate(top_3_results.iterrows(), 1):\n",
    "    params = row['params']\n",
    "    score = row['mean_test_score']\n",
    "    std = row['std_test_score']\n",
    "    \n",
    "    print(f\"\\nModelo #{i}:\")\n",
    "    print(f\"  F1 Score: {score:.6f} (±{std:.6f})\")\n",
    "    print(f\"  Parámetros: {params}\")\n",
    "    \n",
    "    # Crear y entrenar el modelo con estos parámetros\n",
    "    base_est = DecisionTreeClassifier(\n",
    "        random_state=42, \n",
    "        max_depth=params['estimator__max_depth'], \n",
    "        min_samples_split=params['estimator__min_samples_split'], \n",
    "        min_samples_leaf=params['estimator__min_samples_leaf'])\n",
    "    model = AdaBoostClassifier(\n",
    "        estimator=base_est, \n",
    "        random_state=42, \n",
    "        algorithm=params['algorithm'], \n",
    "        n_estimators=params['n_estimators'], \n",
    "        learning_rate=params['learning_rate']\n",
    "    )\n",
    "    model.fit(X_train, y_train)\n",
    "    top_3_models.append(model)\n",
    "    top_3_params.append(params)\n",
    "\n",
    "print(f\"\\n✓ Top 3 modelos entrenados y listos para evaluación\")"
   ]
  },
  {
   "cell_type": "markdown",
   "id": "6cc80ea2",
   "metadata": {},
   "source": [
    "## 7. Evaluación de Métricas de Clasificación\n",
    "\n",
    "Calcular y comparar métricas de clasificación para los top 3 modelos en el conjunto de validación."
   ]
  },
  {
   "cell_type": "code",
   "execution_count": 13,
   "id": "033db21a",
   "metadata": {},
   "outputs": [
    {
     "name": "stdout",
     "output_type": "stream",
     "text": [
      "EVALUACIÓN DE MÉTRICAS EN CONJUNTO DE VALIDACIÓN\n",
      "==================================================\n",
      "\n",
      "Modelo #1 - Métricas en Validación:\n",
      "  • Precision: 0.818416\n",
      "  • Recall: 0.831063\n",
      "  • F1 Score: 0.824691\n",
      "  • ROC AUC: 0.799053\n",
      "  • Accuracy: 0.802778\n",
      "\n",
      "Modelo #2 - Métricas en Validación:\n",
      "  • Precision: 0.808216\n",
      "  • Recall: 0.832242\n",
      "  • F1 Score: 0.820053\n",
      "  • ROC AUC: 0.791369\n",
      "  • Accuracy: 0.796126\n",
      "\n",
      "Modelo #3 - Métricas en Validación:\n",
      "  • Precision: 0.809377\n",
      "  • Recall: 0.825170\n",
      "  • F1 Score: 0.817197\n",
      "  • ROC AUC: 0.789819\n",
      "  • Accuracy: 0.793933\n",
      "\n",
      "✓ Métricas calculadas para todos los modelos\n",
      "\n",
      "Modelo #2 - Métricas en Validación:\n",
      "  • Precision: 0.808216\n",
      "  • Recall: 0.832242\n",
      "  • F1 Score: 0.820053\n",
      "  • ROC AUC: 0.791369\n",
      "  • Accuracy: 0.796126\n",
      "\n",
      "Modelo #3 - Métricas en Validación:\n",
      "  • Precision: 0.809377\n",
      "  • Recall: 0.825170\n",
      "  • F1 Score: 0.817197\n",
      "  • ROC AUC: 0.789819\n",
      "  • Accuracy: 0.793933\n",
      "\n",
      "✓ Métricas calculadas para todos los modelos\n"
     ]
    }
   ],
   "source": [
    "# Calcular métricas para los top 3 modelos\n",
    "print(\"EVALUACIÓN DE MÉTRICAS EN CONJUNTO DE VALIDACIÓN\")\n",
    "print(\"=\" * 50)\n",
    "\n",
    "metrics_results = []\n",
    "\n",
    "for i, model in enumerate(top_3_models, 1):\n",
    "    # Predicciones en conjunto de validación\n",
    "    y_pred = model.predict(X_val)\n",
    "    \n",
    "    # Calcular métricas de clasificación\n",
    "    precision = precision_score(y_val, y_pred)\n",
    "    recall = recall_score(y_val, y_pred)\n",
    "    f1 = f1_score(y_val, y_pred)\n",
    "    roc_auc = roc_auc_score(y_val, y_pred)\n",
    "    accuracy = accuracy_score(y_val, y_pred)\n",
    "    \n",
    "    # Guardar resultados\n",
    "    metrics = {\n",
    "        'Modelo': f'Modelo #{i}',\n",
    "        'Precision': precision,\n",
    "        'Recall': recall,\n",
    "        'F1 Score': f1,\n",
    "        'ROC AUC': roc_auc,\n",
    "        'Accuracy': accuracy,\n",
    "        'Parámetros': str(top_3_params[i-1])\n",
    "    }\n",
    "    metrics_results.append(metrics)\n",
    "    \n",
    "    print(f\"\\nModelo #{i} - Métricas en Validación:\")\n",
    "    print(f\"  • Precision: {precision:.6f}\")\n",
    "    print(f\"  • Recall: {recall:.6f}\")\n",
    "    print(f\"  • F1 Score: {f1:.6f}\")\n",
    "    print(f\"  • ROC AUC: {roc_auc:.6f}\")\n",
    "    print(f\"  • Accuracy: {accuracy:.6f}\")\n",
    "\n",
    "# Crear DataFrame con todas las métricas\n",
    "metrics_df = pd.DataFrame(metrics_results)\n",
    "print(f\"\\n✓ Métricas calculadas para todos los modelos\")"
   ]
  },
  {
   "cell_type": "markdown",
   "id": "66b17259",
   "metadata": {},
   "source": [
    "## 8. Visualización de Métricas de Clasificación\n",
    "\n",
    "Crear gráficos comparativos de las métricas de clasificación para los top 3 modelos."
   ]
  },
  {
   "cell_type": "code",
   "execution_count": 14,
   "id": "9e093e34",
   "metadata": {},
   "outputs": [
    {
     "name": "stdout",
     "output_type": "stream",
     "text": [
      "CREANDO VISUALIZACIONES DE MÉTRICAS\n",
      "==================================================\n"
     ]
    },
    {
     "data": {
      "image/png": "[encoded data removed]",
      "text/plain": [
       "<Figure size 1800x1200 with 6 Axes>"
      ]
     },
     "metadata": {},
     "output_type": "display_data"
    },
    {
     "name": "stdout",
     "output_type": "stream",
     "text": [
      "✓ Visualizaciones creadas exitosamente\n"
     ]
    }
   ],
   "source": [
    "# Crear visualizaciones de las métricas\n",
    "print(\"CREANDO VISUALIZACIONES DE MÉTRICAS\")\n",
    "print(\"=\" * 50)\n",
    "\n",
    "# Configurar el tamaño de la figura\n",
    "fig, axes = plt.subplots(2, 3, figsize=(18, 12))\n",
    "fig.suptitle('Comparación de Métricas de Clasificación - Top 3 Modelos AdaBoost', \n",
    "             fontsize=16, fontweight='bold')\n",
    "\n",
    "# Definir métricas para visualizar\n",
    "metrics_to_plot = ['F1 Score', 'ROC AUC', 'Accuracy', 'Precision', 'Recall']\n",
    "colors = ['skyblue', 'lightcoral', 'lightgreen']\n",
    "\n",
    "# Crear gráfico para cada métrica\n",
    "for idx, metric in enumerate(metrics_to_plot):\n",
    "    row = idx // 3\n",
    "    col = idx % 3\n",
    "    ax = axes[row, col]\n",
    "    \n",
    "    # Extraer valores de la métrica\n",
    "    values = [metrics_results[i][metric] for i in range(3)]\n",
    "    models = [f'Modelo #{i+1}' for i in range(3)]\n",
    "    \n",
    "    # Crear gráfico de barras\n",
    "    bars = ax.bar(models, values, color=colors, alpha=0.7, edgecolor='black')\n",
    "    \n",
    "    # Configurar el gráfico\n",
    "    ax.set_title(f'{metric}', fontsize=12, fontweight='bold')\n",
    "    ax.set_ylabel(metric)\n",
    "    ax.grid(True, alpha=0.3)\n",
    "    \n",
    "    # Añadir valores en las barras\n",
    "    for bar, value in zip(bars, values):\n",
    "        height = bar.get_height()\n",
    "        ax.text(bar.get_x() + bar.get_width()/2., height,\n",
    "                f'{value:.4f}', ha='center', va='bottom', fontsize=10)\n",
    "    \n",
    "    # Ajustar límites para mejor visualización\n",
    "    ax.set_ylim(0, max(values) * 1.1)\n",
    "\n",
    "# Ocultar el último subplot (vacío)\n",
    "axes[1, 2].set_visible(False)\n",
    "\n",
    "plt.tight_layout()\n",
    "plt.show()\n",
    "\n",
    "print(\"✓ Visualizaciones creadas exitosamente\")"
   ]
  },
  {
   "cell_type": "code",
   "execution_count": 15,
   "id": "4ad5526c",
   "metadata": {},
   "outputs": [
    {
     "name": "stdout",
     "output_type": "stream",
     "text": [
      "TABLA COMPARATIVA DE MÉTRICAS\n",
      "==================================================\n",
      "Resumen de métricas para los top 3 modelos:\n"
     ]
    },
    {
     "data": {
      "text/html": [
       "<div>\n",
       "<style scoped>\n",
       "    .dataframe tbody tr th:only-of-type {\n",
       "        vertical-align: middle;\n",
       "    }\n",
       "\n",
       "    .dataframe tbody tr th {\n",
       "        vertical-align: top;\n",
       "    }\n",
       "\n",
       "    .dataframe thead th {\n",
       "        text-align: right;\n",
       "    }\n",
       "</style>\n",
       "<table border=\"1\" class=\"dataframe\">\n",
       "  <thead>\n",
       "    <tr style=\"text-align: right;\">\n",
       "      <th></th>\n",
       "      <th>Modelo</th>\n",
       "      <th>F1 Score</th>\n",
       "      <th>ROC AUC</th>\n",
       "      <th>Accuracy</th>\n",
       "      <th>Precision</th>\n",
       "      <th>Recall</th>\n",
       "    </tr>\n",
       "  </thead>\n",
       "  <tbody>\n",
       "    <tr>\n",
       "      <th>0</th>\n",
       "      <td>Modelo #1</td>\n",
       "      <td>0.824691</td>\n",
       "      <td>0.799053</td>\n",
       "      <td>0.802778</td>\n",
       "      <td>0.818416</td>\n",
       "      <td>0.831063</td>\n",
       "    </tr>\n",
       "    <tr>\n",
       "      <th>1</th>\n",
       "      <td>Modelo #2</td>\n",
       "      <td>0.820053</td>\n",
       "      <td>0.791369</td>\n",
       "      <td>0.796126</td>\n",
       "      <td>0.808216</td>\n",
       "      <td>0.832242</td>\n",
       "    </tr>\n",
       "    <tr>\n",
       "      <th>2</th>\n",
       "      <td>Modelo #3</td>\n",
       "      <td>0.817197</td>\n",
       "      <td>0.789819</td>\n",
       "      <td>0.793933</td>\n",
       "      <td>0.809377</td>\n",
       "      <td>0.825170</td>\n",
       "    </tr>\n",
       "  </tbody>\n",
       "</table>\n",
       "</div>"
      ],
      "text/plain": [
       "      Modelo  F1 Score   ROC AUC  Accuracy  Precision    Recall\n",
       "0  Modelo #1  0.824691  0.799053  0.802778   0.818416  0.831063\n",
       "1  Modelo #2  0.820053  0.791369  0.796126   0.808216  0.832242\n",
       "2  Modelo #3  0.817197  0.789819  0.793933   0.809377  0.825170"
      ]
     },
     "metadata": {},
     "output_type": "display_data"
    },
    {
     "name": "stdout",
     "output_type": "stream",
     "text": [
      "\n",
      "Mejor modelo por métrica:\n",
      "------------------------------\n",
      "• F1 Score: Modelo #1 (0.824691)\n",
      "• ROC AUC: Modelo #1 (0.799053)\n",
      "• Accuracy: Modelo #1 (0.802778)\n",
      "• Precision: Modelo #1 (0.818416)\n",
      "• Recall: Modelo #2 (0.832242)\n"
     ]
    }
   ],
   "source": [
    "# Crear tabla comparativa de métricas\n",
    "print(\"TABLA COMPARATIVA DE MÉTRICAS\")\n",
    "print(\"=\" * 50)\n",
    "\n",
    "# Mostrar tabla con métricas\n",
    "display_df = metrics_df[['Modelo', 'F1 Score', 'ROC AUC', 'Accuracy', 'Precision', 'Recall']].copy()\n",
    "\n",
    "# Formatear números para mejor lectura\n",
    "for col in ['F1 Score', 'ROC AUC', 'Accuracy', 'Precision', 'Recall']:\n",
    "    display_df[col] = display_df[col].round(6)\n",
    "\n",
    "print(\"Resumen de métricas para los top 3 modelos:\")\n",
    "display(display_df)\n",
    "\n",
    "# Identificar el mejor modelo para cada métrica\n",
    "print(\"\\nMejor modelo por métrica:\")\n",
    "print(\"-\" * 30)\n",
    "for metric in ['F1 Score', 'ROC AUC', 'Accuracy', 'Precision', 'Recall']:\n",
    "    best_idx = display_df[metric].idxmax()\n",
    "    best_model = display_df.loc[best_idx, 'Modelo']\n",
    "    best_value = display_df.loc[best_idx, metric]\n",
    "    print(f\"• {metric}: {best_model} ({best_value:.6f})\")"
   ]
  },
  {
   "cell_type": "markdown",
   "id": "671b2141",
   "metadata": {},
   "source": [
    "## 9. Análisis de Validación Cruzada\n",
    "\n",
    "Realizar validación cruzada adicional en el mejor modelo para verificar su robustez."
   ]
  },
  {
   "cell_type": "code",
   "execution_count": 16,
   "id": "f72287c9",
   "metadata": {},
   "outputs": [
    {
     "name": "stdout",
     "output_type": "stream",
     "text": [
      "VALIDACIÓN CRUZADA DEL MEJOR MODELO\n",
      "==================================================\n",
      "F1 Score:\n",
      "  • Media: 0.808961\n",
      "  • Desviación estándar: 0.000783\n",
      "  • Rango: [0.808196, 0.810271]\n",
      "\n",
      "F1 Score:\n",
      "  • Media: 0.808961\n",
      "  • Desviación estándar: 0.000783\n",
      "  • Rango: [0.808196, 0.810271]\n",
      "\n",
      "ROC AUC:\n",
      "  • Media: 0.863971\n",
      "  • Desviación estándar: 0.001478\n",
      "  • Rango: [0.862106, 0.866434]\n",
      "\n",
      "ROC AUC:\n",
      "  • Media: 0.863971\n",
      "  • Desviación estándar: 0.001478\n",
      "  • Rango: [0.862106, 0.866434]\n",
      "\n",
      "Accuracy:\n",
      "  • Media: 0.784401\n",
      "  • Desviación estándar: 0.000777\n",
      "  • Rango: [0.783346, 0.785539]\n",
      "\n",
      "Accuracy:\n",
      "  • Media: 0.784401\n",
      "  • Desviación estándar: 0.000777\n",
      "  • Rango: [0.783346, 0.785539]\n",
      "\n",
      "Precision:\n",
      "  • Media: 0.800323\n",
      "  • Desviación estándar: 0.001598\n",
      "  • Rango: [0.797372, 0.802185]\n",
      "\n",
      "Precision:\n",
      "  • Media: 0.800323\n",
      "  • Desviación estándar: 0.001598\n",
      "  • Rango: [0.797372, 0.802185]\n",
      "\n",
      "Recall:\n",
      "  • Media: 0.817795\n",
      "  • Desviación estándar: 0.002394\n",
      "  • Rango: [0.814421, 0.820430]\n",
      "\n",
      "✓ Validación cruzada completada\n",
      "El modelo muestra alta estabilidad\n",
      "Recall:\n",
      "  • Media: 0.817795\n",
      "  • Desviación estándar: 0.002394\n",
      "  • Rango: [0.814421, 0.820430]\n",
      "\n",
      "✓ Validación cruzada completada\n",
      "El modelo muestra alta estabilidad\n"
     ]
    }
   ],
   "source": [
    "# Validación cruzada del mejor modelo\n",
    "print(\"VALIDACIÓN CRUZADA DEL MEJOR MODELO\")\n",
    "print(\"=\" * 50)\n",
    "\n",
    "best_model = top_3_models[0]  # El primer modelo ya es el mejor\n",
    "\n",
    "# Definir métricas para validación cruzada\n",
    "cv_metrics = {\n",
    "    'f1': 'F1 Score',\n",
    "    'roc_auc': 'ROC AUC',\n",
    "    'accuracy': 'Accuracy',\n",
    "    'precision': 'Precision',\n",
    "    'recall': 'Recall'\n",
    "}\n",
    "\n",
    "cv_results = {}\n",
    "\n",
    "for scoring, metric_name in cv_metrics.items():\n",
    "    scores = cross_val_score(best_model, X_train, y_train, \n",
    "                           cv=cv_folds, scoring=scoring)\n",
    "    \n",
    "    cv_results[metric_name] = scores\n",
    "    \n",
    "    print(f\"{metric_name}:\")\n",
    "    print(f\"  • Media: {scores.mean():.6f}\")\n",
    "    print(f\"  • Desviación estándar: {scores.std():.6f}\")\n",
    "    print(f\"  • Rango: [{scores.min():.6f}, {scores.max():.6f}]\")\n",
    "    print()\n",
    "\n",
    "print(f\"✓ Validación cruzada completada\")\n",
    "print(f\"El modelo muestra {'alta' if max([cv_results[m].std() for m in cv_results]) < 0.1 else 'moderada'} estabilidad\")"
   ]
  },
  {
   "cell_type": "code",
   "execution_count": 17,
   "id": "7f003678",
   "metadata": {},
   "outputs": [
    {
     "name": "stdout",
     "output_type": "stream",
     "text": [
      "DIAGRAMA DE MATRIZ DE CONFUSIÓN\n",
      "==================================================\n"
     ]
    },
    {
     "data": {
      "image/png": "[encoded data removed]",
      "text/plain": [
       "<Figure size 600x500 with 1 Axes>"
      ]
     },
     "metadata": {},
     "output_type": "display_data"
    },
    {
     "name": "stdout",
     "output_type": "stream",
     "text": [
      "Reporte de Clasificación:\n",
      "              precision    recall  f1-score   support\n",
      "\n",
      "  No Popular       0.78      0.77      0.77      6044\n",
      "     Popular       0.82      0.83      0.82      7636\n",
      "\n",
      "    accuracy                           0.80     13680\n",
      "   macro avg       0.80      0.80      0.80     13680\n",
      "weighted avg       0.80      0.80      0.80     13680\n",
      "\n"
     ]
    }
   ],
   "source": [
    "# Diagrama matriz de confusión\n",
    "print(\"DIAGRAMA DE MATRIZ DE CONFUSIÓN\")\n",
    "print(\"=\" * 50)\n",
    "\n",
    "y_val_pred = best_model.predict(X_val)\n",
    "cm = confusion_matrix(y_val, y_val_pred)\n",
    "plt.figure(figsize=(6, 5))\n",
    "sns.heatmap(cm, annot=True, fmt='d', cmap='Blues', cbar=False)\n",
    "plt.title('Matriz de Confusión - Mejor Modelo AdaBoost', fontsize=14, fontweight='bold')\n",
    "plt.xlabel('Predicción', fontsize=12)\n",
    "plt.ylabel('Verdadero', fontsize=12)\n",
    "plt.xticks(ticks=[0.5, 1.5], labels=['No Popular', 'Popular'])\n",
    "plt.yticks(ticks=[0.5, 1.5], labels=['No Popular', 'Popular'], rotation=0)\n",
    "plt.show()\n",
    "\n",
    "# Imprimir reporte de clasificación\n",
    "print(\"Reporte de Clasificación:\")\n",
    "print(classification_report(y_val, y_val_pred, target_names=['No Popular', 'Popular']))"
   ]
  },
  {
   "cell_type": "markdown",
   "id": "c062bbd7",
   "metadata": {},
   "source": [
    "## 10. Guardar Resultados y Modelos\n",
    "\n",
    "Guardar el mejor modelo y los resultados de la búsqueda de hiperparámetros."
   ]
  },
  {
   "cell_type": "code",
   "execution_count": 18,
   "id": "00d3b2d6",
   "metadata": {},
   "outputs": [
    {
     "name": "stdout",
     "output_type": "stream",
     "text": [
      "GUARDANDO RESULTADOS Y MODELOS\n",
      "==================================================\n",
      "✓ Mejor modelo guardado: ../models/adaboost_classifier_results/best_adaboost_classifier_model.joblib\n",
      "✓ Modelo #1 guardado: ../models/adaboost_classifier_results/top_1_model.joblib\n",
      "✓ Modelo #2 guardado: ../models/adaboost_classifier_results/top_2_model.joblib\n",
      "✓ Modelo #3 guardado: ../models/adaboost_classifier_results/top_3_model.joblib\n",
      "✓ Resultados de Grid Search guardados: ../models/adaboost_classifier_results/grid_search_results.joblib\n",
      "✓ Métricas guardadas: ../models/adaboost_classifier_results/model_metrics.csv\n",
      "✓ Resumen del experimento guardado: ../models/adaboost_classifier_results/experiment_summary.json\n",
      "✓ Mejor modelo guardado: ../models/adaboost_classifier_results/best_adaboost_classifier_model.joblib\n",
      "✓ Modelo #1 guardado: ../models/adaboost_classifier_results/top_1_model.joblib\n",
      "✓ Modelo #2 guardado: ../models/adaboost_classifier_results/top_2_model.joblib\n",
      "✓ Modelo #3 guardado: ../models/adaboost_classifier_results/top_3_model.joblib\n",
      "✓ Resultados de Grid Search guardados: ../models/adaboost_classifier_results/grid_search_results.joblib\n",
      "✓ Métricas guardadas: ../models/adaboost_classifier_results/model_metrics.csv\n",
      "✓ Resumen del experimento guardado: ../models/adaboost_classifier_results/experiment_summary.json\n"
     ]
    }
   ],
   "source": [
    "# Guardar resultados y modelos\n",
    "print(\"GUARDANDO RESULTADOS Y MODELOS\")\n",
    "print(\"=\" * 50)\n",
    "\n",
    "# Crear directorio para resultados\n",
    "import os\n",
    "results_dir = '../models/adaboost_classifier_results'\n",
    "os.makedirs(results_dir, exist_ok=True)\n",
    "\n",
    "# Guardar el mejor modelo\n",
    "best_model_path = os.path.join(results_dir, 'best_adaboost_classifier_model.joblib')\n",
    "joblib.dump(best_model, best_model_path)\n",
    "print(f\"✓ Mejor modelo guardado: {best_model_path}\")\n",
    "\n",
    "# Guardar todos los top 3 modelos\n",
    "for i, model in enumerate(top_3_models, 1):\n",
    "    model_path = os.path.join(results_dir, f'top_{i}_model.joblib')\n",
    "    joblib.dump(model, model_path)\n",
    "    print(f\"✓ Modelo #{i} guardado: {model_path}\")\n",
    "\n",
    "# Guardar resultados de grid search\n",
    "grid_results_path = os.path.join(results_dir, 'grid_search_results.joblib')\n",
    "joblib.dump(grid_search, grid_results_path)\n",
    "print(f\"✓ Resultados de Grid Search guardados: {grid_results_path}\")\n",
    "\n",
    "# Guardar métricas en CSV\n",
    "metrics_path = os.path.join(results_dir, 'model_metrics.csv')\n",
    "metrics_df.to_csv(metrics_path, index=False)\n",
    "print(f\"✓ Métricas guardadas: {metrics_path}\")\n",
    "\n",
    "# Crear resumen del experimento\n",
    "experiment_summary = {\n",
    "    'timestamp': datetime.now().strftime('%Y-%m-%d %H:%M:%S'),\n",
    "    'algorithm': 'AdaBoost Classifier',\n",
    "    'base_estimator': 'Decision Tree Classifier',\n",
    "    'original_dataset_size': len(X_train_full),\n",
    "    'training_size': len(X_train),\n",
    "    'validation_size': len(X_val),\n",
    "    'features_count': X_train.shape[1],\n",
    "    'cv_folds': cv_folds,\n",
    "    'total_combinations_tested': total_combinations,\n",
    "    'best_params': grid_search.best_params_,\n",
    "    'best_cv_score': float(grid_search.best_score_),\n",
    "    'search_duration': str(duration)\n",
    "}\n",
    "\n",
    "summary_path = os.path.join(results_dir, 'experiment_summary.json')\n",
    "import json\n",
    "with open(summary_path, 'w') as f:\n",
    "    json.dump(experiment_summary, f, indent=2)\n",
    "print(f\"✓ Resumen del experimento guardado: {summary_path}\")"
   ]
  },
  {
   "cell_type": "markdown",
   "id": "f2077a1b",
   "metadata": {},
   "source": [
    "## 11. Resumen Final\n",
    "\n",
    "Resumen completo del experimento de búsqueda de hiperparámetros."
   ]
  },
  {
   "cell_type": "code",
   "execution_count": 19,
   "id": "e3d8c347",
   "metadata": {},
   "outputs": [
    {
     "name": "stdout",
     "output_type": "stream",
     "text": [
      "🎉 EXPERIMENTO DE BÚSQUEDA DE HIPERPARÁMETROS COMPLETADO\n",
      "============================================================\n",
      "📊 ESTADÍSTICAS DEL EXPERIMENTO:\n",
      "  • Algoritmo utilizado: AdaBoost Classifier\n",
      "  • Estimador base: Decision Tree Classifier\n",
      "  • Dataset original: 91,199 registros\n",
      "  • Conjunto de entrenamiento: 77,519 registros\n",
      "  • Conjunto de validación: 13,680 registros\n",
      "  • Número de características: 18\n",
      "\n",
      "🔍 BÚSQUEDA DE HIPERPARÁMETROS:\n",
      "  • Combinaciones evaluadas: 1,800\n",
      "  • Folds de validación cruzada: 5\n",
      "  • Total de entrenamientos: 9,000\n",
      "  • Tiempo total de búsqueda: 3:17:54.639339\n",
      "\n",
      "🏆 MEJORES RESULTADOS:\n",
      "  • Mejores hiperparámetros: {'algorithm': 'SAMME', 'estimator__max_depth': 5, 'estimator__min_samples_leaf': 2, 'estimator__min_samples_split': 10, 'learning_rate': 1.5, 'n_estimators': 300}\n",
      "  • Mejor CV Score (F1): 0.808961\n",
      "\n",
      "📈 MÉTRICAS EN VALIDACIÓN (MEJOR MODELO):\n",
      "  • F1 Score: 0.824691\n",
      "  • ROC AUC: 0.799053\n",
      "  • Precision: 0.818416\n",
      "  • Recall: 0.831063\n",
      "  • Accuracy: 0.802778\n",
      "\n",
      "💾 ARCHIVOS GENERADOS:\n",
      "  • Mejor modelo: ../models/adaboost_classifier_results/best_adaboost_classifier_model.joblib\n",
      "  • Top 3 modelos: ../models/adaboost_classifier_results/top_*_model.joblib\n",
      "  • Resultados completos: ../models/adaboost_classifier_results/grid_search_results.joblib\n",
      "  • Métricas: ../models/adaboost_classifier_results/model_metrics.csv\n",
      "  • Resumen: ../models/adaboost_classifier_results/experiment_summary.json\n",
      "\n",
      "✅ Experimento completado exitosamente!\n",
      "✅ El modelo está listo para implementación en producción!\n"
     ]
    }
   ],
   "source": [
    "# Resumen final del experimento\n",
    "print(\"🎉 EXPERIMENTO DE BÚSQUEDA DE HIPERPARÁMETROS COMPLETADO\")\n",
    "print(\"=\" * 60)\n",
    "\n",
    "print(f\"📊 ESTADÍSTICAS DEL EXPERIMENTO:\")\n",
    "print(f\"  • Algoritmo utilizado: AdaBoost Classifier\")\n",
    "print(f\"  • Estimador base: Decision Tree Classifier\")\n",
    "print(f\"  • Dataset original: {len(X_train_full):,} registros\")\n",
    "print(f\"  • Conjunto de entrenamiento: {len(X_train):,} registros\")\n",
    "print(f\"  • Conjunto de validación: {len(X_val):,} registros\")\n",
    "print(f\"  • Número de características: {X_train.shape[1]}\")\n",
    "\n",
    "print(f\"\\n🔍 BÚSQUEDA DE HIPERPARÁMETROS:\")\n",
    "print(f\"  • Combinaciones evaluadas: {total_combinations:,}\")\n",
    "print(f\"  • Folds de validación cruzada: {cv_folds}\")\n",
    "print(f\"  • Total de entrenamientos: {total_combinations * cv_folds:,}\")\n",
    "print(f\"  • Tiempo total de búsqueda: {duration}\")\n",
    "\n",
    "print(f\"\\n🏆 MEJORES RESULTADOS:\")\n",
    "print(f\"  • Mejores hiperparámetros: {grid_search.best_params_}\")\n",
    "print(f\"  • Mejor CV Score (F1): {grid_search.best_score_:.6f}\")\n",
    "\n",
    "# Mostrar las mejores métricas en validación\n",
    "best_metrics = metrics_results[0]\n",
    "print(f\"\\n📈 MÉTRICAS EN VALIDACIÓN (MEJOR MODELO):\")\n",
    "print(f\"  • F1 Score: {best_metrics['F1 Score']:.6f}\")\n",
    "print(f\"  • ROC AUC: {best_metrics['ROC AUC']:.6f}\")\n",
    "print(f\"  • Precision: {best_metrics['Precision']:.6f}\")\n",
    "print(f\"  • Recall: {best_metrics['Recall']:.6f}\")\n",
    "print(f\"  • Accuracy: {best_metrics['Accuracy']:.6f}\")\n",
    "\n",
    "print(f\"\\n💾 ARCHIVOS GENERADOS:\")\n",
    "print(f\"  • Mejor modelo: {best_model_path}\")\n",
    "print(f\"  • Top 3 modelos: {results_dir}/top_*_model.joblib\")\n",
    "print(f\"  • Resultados completos: {grid_results_path}\")\n",
    "print(f\"  • Métricas: {metrics_path}\")\n",
    "print(f\"  • Resumen: {summary_path}\")\n",
    "\n",
    "print(f\"\\n✅ Experimento completado exitosamente!\")\n",
    "print(f\"✅ El modelo está listo para implementación en producción!\")"
   ]
  },
  {
   "cell_type": "code",
   "execution_count": 21,
   "id": "cdb1cee6",
   "metadata": {},
   "outputs": [
    {
     "name": "stderr",
     "output_type": "stream",
     "text": [
      "2025/09/06 22:10:29 INFO mlflow.tracking.fluent: Experiment with name 'AdaBoost_Binary_Classifier_Experiment' does not exist. Creating a new experiment.\n"
     ]
    },
    {
     "name": "stdout",
     "output_type": "stream",
     "text": [
      "🏃 View run Model_1 at: http://100.27.194.143:8050/#/experiments/698515008361551766/runs/89c0f9048b5b4192855df0bb68af5d9f\n",
      "🧪 View experiment at: http://100.27.194.143:8050/#/experiments/698515008361551766\n",
      "🏃 View run Model_2 at: http://100.27.194.143:8050/#/experiments/698515008361551766/runs/dd58535aaf0b4bd69e471b27683180e9\n",
      "🧪 View experiment at: http://100.27.194.143:8050/#/experiments/698515008361551766\n",
      "🏃 View run Model_2 at: http://100.27.194.143:8050/#/experiments/698515008361551766/runs/dd58535aaf0b4bd69e471b27683180e9\n",
      "🧪 View experiment at: http://100.27.194.143:8050/#/experiments/698515008361551766\n",
      "🏃 View run Model_3 at: http://100.27.194.143:8050/#/experiments/698515008361551766/runs/e8b32e029430457993a8b3a6b15b72d3\n",
      "🧪 View experiment at: http://100.27.194.143:8050/#/experiments/698515008361551766\n",
      "✓ Métricas de los top 3 modelos registradas en MLflow\n",
      "🏃 View run Model_3 at: http://100.27.194.143:8050/#/experiments/698515008361551766/runs/e8b32e029430457993a8b3a6b15b72d3\n",
      "🧪 View experiment at: http://100.27.194.143:8050/#/experiments/698515008361551766\n",
      "✓ Métricas de los top 3 modelos registradas en MLflow\n",
      "🏃 View run AdaBoost Top 3 Models Metrics at: http://100.27.194.143:8050/#/experiments/698515008361551766/runs/2bb4db611b664b4fb2f54d348c19fdc9\n",
      "🧪 View experiment at: http://100.27.194.143:8050/#/experiments/698515008361551766\n",
      "🏃 View run AdaBoost Top 3 Models Metrics at: http://100.27.194.143:8050/#/experiments/698515008361551766/runs/2bb4db611b664b4fb2f54d348c19fdc9\n",
      "🧪 View experiment at: http://100.27.194.143:8050/#/experiments/698515008361551766\n"
     ]
    }
   ],
   "source": [
    "import mlflow\n",
    "\n",
    "mlflow.set_tracking_uri(\"http://100.27.194.143:8050\")\n",
    "experiment = mlflow.set_experiment(\"AdaBoost_Binary_Classifier_Experiment\")\n",
    "# Iniciar una nueva ejecución de MLflow\n",
    "with mlflow.start_run(experiment_id=experiment.experiment_id, run_name=\"AdaBoost Top 3 Models Metrics\"):\n",
    "  for i, metrics in enumerate(metrics_results, 0):\n",
    "    with mlflow.start_run(nested=True, run_name=f\"Model_{i+1}\"):\n",
    "      # Registrar los parámetros del modelo\n",
    "      mlflow.log_params(top_3_params[i])\n",
    "      # Registrar las métricas principales\n",
    "      mlflow.log_metric(f\"Precision\", metrics['Precision'])\n",
    "      mlflow.log_metric(f\"Recall\", metrics['Recall'])\n",
    "      mlflow.log_metric(f\"F1_Score\", metrics['F1 Score'])\n",
    "      mlflow.log_metric(f\"ROC_AUC\", metrics['ROC AUC'])\n",
    "      mlflow.log_metric(f\"Accuracy\", metrics['Accuracy'])\n",
    "      # Registrar el modelo\n",
    "      mlflow.sklearn.log_model(top_3_models[i], input_example=X_val.iloc[[0]])\n",
    "  print(\"✓ Métricas de los top 3 modelos registradas en MLflow\")"
   ]
  }
 ],
 "metadata": {
  "kernelspec": {
   "display_name": ".venv",
   "language": "python",
   "name": "python3"
  },
  "language_info": {
   "codemirror_mode": {
    "name": "ipython",
    "version": 3
   },
   "file_extension": ".py",
   "mimetype": "text/x-python",
   "name": "python",
   "nbconvert_exporter": "python",
   "pygments_lexer": "ipython3",
   "version": "3.13.7"
  }
 },
 "nbformat": 4,
 "nbformat_minor": 5
}
