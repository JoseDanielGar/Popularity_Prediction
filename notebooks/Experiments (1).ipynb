{
 "cells": [
  {
   "cell_type": "code",
   "execution_count": 0,
   "metadata": {
    "application/vnd.databricks.v1+cell": {
     "cellMetadata": {
      "byteLimit": 2048000,
      "rowLimit": 10000
     },
     "inputWidgets": {},
     "nuid": "fa556345-8df8-4b6f-8cef-cf9130fad75f",
     "showTitle": false,
     "tableResultSettingsMap": {},
     "title": ""
    }
   },
   "outputs": [],
   "source": [
    "%restart_python"
   ]
  },
  {
   "cell_type": "code",
   "execution_count": 0,
   "metadata": {
    "application/vnd.databricks.v1+cell": {
     "cellMetadata": {
      "byteLimit": 2048000,
      "rowLimit": 10000
     },
     "inputWidgets": {},
     "nuid": "14aa001f-33da-4b80-9caa-1de86ffb32c8",
     "showTitle": false,
     "tableResultSettingsMap": {},
     "title": ""
    }
   },
   "outputs": [
    {
     "output_type": "stream",
     "name": "stderr",
     "output_type": "stream",
     "text": [
      "/databricks/python/lib/python3.11/site-packages/mlflow/protos/service_pb2.py:11: UserWarning: google.protobuf.service module is deprecated. RPC implementations should provide code generator plugins which generate code specific to the RPC implementation. service.py will be removed in Jan 2025\n  from google.protobuf import service as _service\n"
     ]
    },
    {
     "output_type": "stream",
     "name": "stdout",
     "output_type": "stream",
     "text": [
      "¡Bibliotecas importadas con éxito!\n"
     ]
    }
   ],
   "source": [
    "import pandas as pd\n",
    "import os\n",
    "import warnings\n",
    "import yaml\n",
    "\n",
    "from sklearn.ensemble import RandomForestRegressor, GradientBoostingRegressor\n",
    "import mlflow\n",
    "import mlflow.sklearn\n",
    "# Suprimir los warnings para una salida más limpia\n",
    "warnings.filterwarnings('ignore')\n",
    "\n",
    "# Opciones para una mejor visualización\n",
    "pd.set_option('display.max_columns', None)\n",
    "pd.set_option('display.width', None)\n",
    "pd.set_option('display.max_colwidth', 50)\n",
    "\n",
    "print(\"¡Bibliotecas importadas con éxito!\")"
   ]
  },
  {
   "cell_type": "markdown",
   "metadata": {
    "application/vnd.databricks.v1+cell": {
     "cellMetadata": {},
     "inputWidgets": {},
     "nuid": "e61e5ea4-ddff-4479-a24d-9f68a58c7288",
     "showTitle": false,
     "tableResultSettingsMap": {},
     "title": ""
    }
   },
   "source": [
    "## Cargue de los datos:"
   ]
  },
  {
   "cell_type": "markdown",
   "metadata": {
    "application/vnd.databricks.v1+cell": {
     "cellMetadata": {},
     "inputWidgets": {},
     "nuid": "47788192-9641-40d9-ae6b-204b1f8ecd20",
     "showTitle": false,
     "tableResultSettingsMap": {},
     "title": ""
    }
   },
   "source": [
    "Se hace el cargue de los datos previamente preprocesados y separados en los conjuntos de entrenamiento y prueba. Las variables a incluir en el modelo corresponden a las que describen las canciones de manera numérica\n",
    "| Variable           | Tipo       | Descripción                                                                 | Codificación                       | Normalización                      |\n",
    "|--------------------|------------|-----------------------------------------------------------------------------|------------------------------------|------------------------------------|\n",
    "| popularity         | Numeric    | Variable Objetivo: Puntuación de popularidad en Spotify (0–100)              | -                                  | -                                  |\n",
    "| duration_ms        | Numeric    | Duración de la pista en milisegundos                                         | -                                  | Standard Scaler<br>Outliers: 4.9%<br>Range ratio: 609.98 |\n",
    "| explicit           | Boolean    | Indica si la pista contiene contenido explícito                              | True/False                         | -                                  |\n",
    "| danceability       | float      | Qué tan adecuada es la pista para bailar (0.0–1.0).                          | -                                  | -                                  |\n",
    "| energy             | float      | Nivel de intensidad y actividad de la pista (0.0–1.0).                       | -                                  | -                                  |\n",
    "| key                | Categorical| Tono musical (0 = Do, 1 = Do♯/Re♭, …, 11 = Si)                               | Label Encoding (cardinalidad: 12)  | -                                  |\n",
    "| loudness           | Numeric    | Volumen general en dB. Valores altos indican mayor volumen.                  | -                                  | Robust Scaler<br>Outliers: 5.4%<br>Range ratio: ∞ |\n",
    "| mode_1             | Dummy Var. | Modalidad mayor (1 = mayor, 0 = no)                                          | One-Hot Encoding (para `mode`)     | -                                  |\n",
    "| speechiness        | float      | Presencia de palabras habladas en la pista (0.0–1.0).                        | -                                  | -                                  |\n",
    "| acousticness       | float      | Confianza de que la pista es acústica (0.0–1.0).                             | -                                  | -                                  |\n",
    "| instrumentalness   | float      | Probabilidad de que la pista no contenga voces (0.0–1.0).                    | -                                  | -                                  |\n",
    "| liveness           | float      | Presencia de una audiencia en la grabación (0.0–1.0).                        | -                                  | -                                  |\n",
    "| valence            | float      | Positividad musical (0.0 = triste, 1.0 = feliz).                             | -                                  | -                                  |\n",
    "| tempo              | Numeric    | Tempo estimado en BPM                                                        | -                                  | Standard Scaler<br>Outliers: 0.5%<br>Range ratio: ∞ |\n",
    "| time_signature_1   | Dummy Var. | Compás 1/4 (1 si el compás es 1/4, 0 en caso contrario)                      | One-Hot Encoding (para `time_signature`) | - |\n",
    "| time_signature_3   | Dummy Var. | Compás 3/4 (1 si el compás es 3/4, 0 en caso contrario)                      | One-Hot Encoding (para `time_signature`) | - |\n",
    "| time_signature_4   | Dummy Var. | Compás 4/4 (1 si el compás es 4/4, 0 en caso contrario)                      | One-Hot Encoding (para `time_signature`) | - |\n",
    "| time_signature_5   | Dummy Var. | Compás 5/4 (1 si el compás es 5/4, 0 en caso contrario)                      | One-Hot Encoding (para `time_signature`) | - |\n",
    "| track_genre        | String     | Etiqueta de género asignada a la pista     | Label Encoding (cardinalidad: 114) | -                                  |      "
   ]
  },
  {
   "cell_type": "code",
   "execution_count": 0,
   "metadata": {
    "application/vnd.databricks.v1+cell": {
     "cellMetadata": {
      "byteLimit": 2048000,
      "rowLimit": 10000
     },
     "inputWidgets": {},
     "nuid": "a194bcc3-83af-40ab-a1dc-3642fa7b0065",
     "showTitle": false,
     "tableResultSettingsMap": {},
     "title": ""
    }
   },
   "outputs": [
    {
     "output_type": "stream",
     "name": "stdout",
     "output_type": "stream",
     "text": [
      "\n✓ Datasets loaded successfully!\nDatasets shape: \n X_train: (91199, 18) \n y_train:(91199, 1)  \n X_test:(22800, 18)  \n y_test:(22800, 1) \n"
     ]
    }
   ],
   "source": [
    "# Define the path to the dataset\n",
    "config = yaml.safe_load(open(\"params.yaml\"))[\"prepare\"]\n",
    "\n",
    "output_path_train=config['output_path_train']\n",
    "output_path_test=config['output_path_test']\n",
    "\n",
    "X_train_path = os.path.join(output_path_train, 'X_train.csv')\n",
    "X_test_path = os.path.join(output_path_test, 'X_test.csv')\n",
    "y_train_path = os.path.join(output_path_train, 'y_train.csv')\n",
    "y_test_path = os.path.join(output_path_test, 'y_test.csv')\n",
    "\n",
    "\n",
    "# Load the dataset\n",
    "try:\n",
    "    X_train = pd.read_csv(X_train_path)\n",
    "    X_test = pd.read_csv(X_test_path)\n",
    "    y_train = pd.read_csv(y_train_path)\n",
    "    y_test = pd.read_csv(y_test_path)\n",
    "    print(f\"\\n✓ Datasets loaded successfully!\")\n",
    "    print(f\"Datasets shape: \\n X_train: {X_train.shape} \\n y_train:{y_train.shape}  \\n X_test:{X_test.shape}  \\n y_test:{y_test.shape} \")\n",
    "except Exception as e:\n",
    "    print(f\"✗ Error loading dataset: {e}\")\n",
    "\n"
   ]
  },
  {
   "cell_type": "markdown",
   "metadata": {
    "application/vnd.databricks.v1+cell": {
     "cellMetadata": {},
     "inputWidgets": {},
     "nuid": "a3b14f99-1472-472e-8890-df00baf93af8",
     "showTitle": false,
     "tableResultSettingsMap": {},
     "title": ""
    }
   },
   "source": [
    "## Experimento 1:\n",
    "\n"
   ]
  },
  {
   "cell_type": "code",
   "execution_count": 0,
   "metadata": {
    "application/vnd.databricks.v1+cell": {
     "cellMetadata": {
      "byteLimit": 2048000,
      "rowLimit": 10000
     },
     "inputWidgets": {},
     "nuid": "16330960-5411-4e82-b5f8-cac5d6b1f537",
     "showTitle": false,
     "tableResultSettingsMap": {},
     "title": ""
    }
   },
   "outputs": [
    {
     "output_type": "execute_result",
     "data": {
      "text/html": [
       "<div>\n",
       "<style scoped>\n",
       "    .dataframe tbody tr th:only-of-type {\n",
       "        vertical-align: middle;\n",
       "    }\n",
       "\n",
       "    .dataframe tbody tr th {\n",
       "        vertical-align: top;\n",
       "    }\n",
       "\n",
       "    .dataframe thead th {\n",
       "        text-align: right;\n",
       "    }\n",
       "</style>\n",
       "<table border=\"1\" class=\"dataframe\">\n",
       "  <thead>\n",
       "    <tr style=\"text-align: right;\">\n",
       "      <th></th>\n",
       "      <th>duration_ms</th>\n",
       "      <th>explicit</th>\n",
       "      <th>danceability</th>\n",
       "      <th>energy</th>\n",
       "      <th>key</th>\n",
       "      <th>loudness</th>\n",
       "      <th>speechiness</th>\n",
       "      <th>acousticness</th>\n",
       "      <th>instrumentalness</th>\n",
       "      <th>liveness</th>\n",
       "      <th>valence</th>\n",
       "      <th>tempo</th>\n",
       "      <th>track_genre</th>\n",
       "      <th>mode_1</th>\n",
       "      <th>time_signature_1</th>\n",
       "      <th>time_signature_3</th>\n",
       "      <th>time_signature_4</th>\n",
       "      <th>time_signature_5</th>\n",
       "    </tr>\n",
       "  </thead>\n",
       "  <tbody>\n",
       "    <tr>\n",
       "      <th>0</th>\n",
       "      <td>-0.284617</td>\n",
       "      <td>False</td>\n",
       "      <td>0.769</td>\n",
       "      <td>0.802</td>\n",
       "      <td>2</td>\n",
       "      <td>0.280040</td>\n",
       "      <td>0.0617</td>\n",
       "      <td>0.154000</td>\n",
       "      <td>0.000012</td>\n",
       "      <td>0.0731</td>\n",
       "      <td>0.696</td>\n",
       "      <td>-0.675648</td>\n",
       "      <td>74</td>\n",
       "      <td>False</td>\n",
       "      <td>False</td>\n",
       "      <td>False</td>\n",
       "      <td>True</td>\n",
       "      <td>False</td>\n",
       "    </tr>\n",
       "    <tr>\n",
       "      <th>1</th>\n",
       "      <td>0.051902</td>\n",
       "      <td>False</td>\n",
       "      <td>0.557</td>\n",
       "      <td>0.703</td>\n",
       "      <td>10</td>\n",
       "      <td>0.986427</td>\n",
       "      <td>0.0277</td>\n",
       "      <td>0.203000</td>\n",
       "      <td>0.000156</td>\n",
       "      <td>0.0927</td>\n",
       "      <td>0.228</td>\n",
       "      <td>0.930321</td>\n",
       "      <td>49</td>\n",
       "      <td>False</td>\n",
       "      <td>False</td>\n",
       "      <td>False</td>\n",
       "      <td>True</td>\n",
       "      <td>False</td>\n",
       "    </tr>\n",
       "    <tr>\n",
       "      <th>2</th>\n",
       "      <td>-1.021152</td>\n",
       "      <td>True</td>\n",
       "      <td>0.904</td>\n",
       "      <td>0.601</td>\n",
       "      <td>4</td>\n",
       "      <td>0.288024</td>\n",
       "      <td>0.1980</td>\n",
       "      <td>0.030500</td>\n",
       "      <td>0.000000</td>\n",
       "      <td>0.6150</td>\n",
       "      <td>0.761</td>\n",
       "      <td>-1.171209</td>\n",
       "      <td>51</td>\n",
       "      <td>True</td>\n",
       "      <td>False</td>\n",
       "      <td>False</td>\n",
       "      <td>True</td>\n",
       "      <td>False</td>\n",
       "    </tr>\n",
       "    <tr>\n",
       "      <th>3</th>\n",
       "      <td>-0.267925</td>\n",
       "      <td>False</td>\n",
       "      <td>0.731</td>\n",
       "      <td>0.798</td>\n",
       "      <td>9</td>\n",
       "      <td>0.216168</td>\n",
       "      <td>0.2940</td>\n",
       "      <td>0.031500</td>\n",
       "      <td>0.000086</td>\n",
       "      <td>0.2740</td>\n",
       "      <td>0.898</td>\n",
       "      <td>1.663455</td>\n",
       "      <td>9</td>\n",
       "      <td>True</td>\n",
       "      <td>False</td>\n",
       "      <td>False</td>\n",
       "      <td>True</td>\n",
       "      <td>False</td>\n",
       "    </tr>\n",
       "    <tr>\n",
       "      <th>4</th>\n",
       "      <td>-0.204343</td>\n",
       "      <td>False</td>\n",
       "      <td>0.352</td>\n",
       "      <td>0.969</td>\n",
       "      <td>5</td>\n",
       "      <td>-0.099202</td>\n",
       "      <td>0.1710</td>\n",
       "      <td>0.000016</td>\n",
       "      <td>0.863000</td>\n",
       "      <td>0.2380</td>\n",
       "      <td>0.376</td>\n",
       "      <td>-0.374162</td>\n",
       "      <td>42</td>\n",
       "      <td>True</td>\n",
       "      <td>False</td>\n",
       "      <td>False</td>\n",
       "      <td>True</td>\n",
       "      <td>False</td>\n",
       "    </tr>\n",
       "  </tbody>\n",
       "</table>\n",
       "</div>"
      ],
      "text/plain": [
       "   duration_ms  explicit  danceability  energy  key  loudness  speechiness  \\\n",
       "0    -0.284617     False         0.769   0.802    2  0.280040       0.0617   \n",
       "1     0.051902     False         0.557   0.703   10  0.986427       0.0277   \n",
       "2    -1.021152      True         0.904   0.601    4  0.288024       0.1980   \n",
       "3    -0.267925     False         0.731   0.798    9  0.216168       0.2940   \n",
       "4    -0.204343     False         0.352   0.969    5 -0.099202       0.1710   \n",
       "\n",
       "   acousticness  instrumentalness  liveness  valence     tempo  track_genre  \\\n",
       "0      0.154000          0.000012    0.0731    0.696 -0.675648           74   \n",
       "1      0.203000          0.000156    0.0927    0.228  0.930321           49   \n",
       "2      0.030500          0.000000    0.6150    0.761 -1.171209           51   \n",
       "3      0.031500          0.000086    0.2740    0.898  1.663455            9   \n",
       "4      0.000016          0.863000    0.2380    0.376 -0.374162           42   \n",
       "\n",
       "   mode_1  time_signature_1  time_signature_3  time_signature_4  \\\n",
       "0   False             False             False              True   \n",
       "1   False             False             False              True   \n",
       "2    True             False             False              True   \n",
       "3    True             False             False              True   \n",
       "4    True             False             False              True   \n",
       "\n",
       "   time_signature_5  \n",
       "0             False  \n",
       "1             False  \n",
       "2             False  \n",
       "3             False  \n",
       "4             False  "
      ]
     },
     "execution_count": 3,
     "metadata": {},
     "output_type": "execute_result"
    }
   ],
   "source": [
    "X_train.head()"
   ]
  },
  {
   "cell_type": "code",
   "execution_count": 0,
   "metadata": {
    "application/vnd.databricks.v1+cell": {
     "cellMetadata": {
      "byteLimit": 2048000,
      "rowLimit": 10000
     },
     "inputWidgets": {},
     "nuid": "6b13e5a4-f059-44ac-beec-468a3b1ac365",
     "showTitle": false,
     "tableResultSettingsMap": {},
     "title": ""
    }
   },
   "outputs": [
    {
     "output_type": "execute_result",
     "data": {
      "text/plain": [
       "Index(['duration_ms', 'explicit', 'danceability', 'energy', 'key', 'loudness',\n",
       "       'speechiness', 'acousticness', 'instrumentalness', 'liveness',\n",
       "       'valence', 'tempo', 'track_genre', 'mode_1', 'time_signature_1',\n",
       "       'time_signature_3', 'time_signature_4', 'time_signature_5'],\n",
       "      dtype='object')"
      ]
     },
     "execution_count": 3,
     "metadata": {},
     "output_type": "execute_result"
    }
   ],
   "source": [
    "X_train.columns\n"
   ]
  },
  {
   "cell_type": "code",
   "execution_count": 0,
   "metadata": {
    "application/vnd.databricks.v1+cell": {
     "cellMetadata": {
      "byteLimit": 2048000,
      "rowLimit": 10000
     },
     "inputWidgets": {},
     "nuid": "ab7753c6-3552-40a1-9ca1-2e12fff77402",
     "showTitle": false,
     "tableResultSettingsMap": {},
     "title": ""
    }
   },
   "outputs": [
    {
     "output_type": "execute_result",
     "data": {
      "text/html": [
       "<div>\n",
       "<style scoped>\n",
       "    .dataframe tbody tr th:only-of-type {\n",
       "        vertical-align: middle;\n",
       "    }\n",
       "\n",
       "    .dataframe tbody tr th {\n",
       "        vertical-align: top;\n",
       "    }\n",
       "\n",
       "    .dataframe thead th {\n",
       "        text-align: right;\n",
       "    }\n",
       "</style>\n",
       "<table border=\"1\" class=\"dataframe\">\n",
       "  <thead>\n",
       "    <tr style=\"text-align: right;\">\n",
       "      <th></th>\n",
       "      <th>popularity</th>\n",
       "    </tr>\n",
       "  </thead>\n",
       "  <tbody>\n",
       "    <tr>\n",
       "      <th>0</th>\n",
       "      <td>42</td>\n",
       "    </tr>\n",
       "    <tr>\n",
       "      <th>1</th>\n",
       "      <td>45</td>\n",
       "    </tr>\n",
       "    <tr>\n",
       "      <th>2</th>\n",
       "      <td>19</td>\n",
       "    </tr>\n",
       "    <tr>\n",
       "      <th>3</th>\n",
       "      <td>47</td>\n",
       "    </tr>\n",
       "    <tr>\n",
       "      <th>4</th>\n",
       "      <td>21</td>\n",
       "    </tr>\n",
       "    <tr>\n",
       "      <th>...</th>\n",
       "      <td>...</td>\n",
       "    </tr>\n",
       "    <tr>\n",
       "      <th>22795</th>\n",
       "      <td>0</td>\n",
       "    </tr>\n",
       "    <tr>\n",
       "      <th>22796</th>\n",
       "      <td>17</td>\n",
       "    </tr>\n",
       "    <tr>\n",
       "      <th>22797</th>\n",
       "      <td>67</td>\n",
       "    </tr>\n",
       "    <tr>\n",
       "      <th>22798</th>\n",
       "      <td>63</td>\n",
       "    </tr>\n",
       "    <tr>\n",
       "      <th>22799</th>\n",
       "      <td>65</td>\n",
       "    </tr>\n",
       "  </tbody>\n",
       "</table>\n",
       "<p>22800 rows × 1 columns</p>\n",
       "</div>"
      ],
      "text/plain": [
       "       popularity\n",
       "0              42\n",
       "1              45\n",
       "2              19\n",
       "3              47\n",
       "4              21\n",
       "...           ...\n",
       "22795           0\n",
       "22796          17\n",
       "22797          67\n",
       "22798          63\n",
       "22799          65\n",
       "\n",
       "[22800 rows x 1 columns]"
      ]
     },
     "execution_count": 4,
     "metadata": {},
     "output_type": "execute_result"
    }
   ],
   "source": [
    "y_test"
   ]
  },
  {
   "cell_type": "code",
   "execution_count": 0,
   "metadata": {
    "application/vnd.databricks.v1+cell": {
     "cellMetadata": {
      "byteLimit": 2048000,
      "rowLimit": 10000
     },
     "inputWidgets": {},
     "nuid": "1c3a0063-2210-4406-9ebb-c65a719a74ae",
     "showTitle": false,
     "tableResultSettingsMap": {},
     "title": ""
    }
   },
   "outputs": [],
   "source": [
    "from sklearn.metrics import mean_squared_error, r2_score\n",
    "from sklearn.model_selection import train_test_split, GridSearchCV\n",
    "import matplotlib.pyplot as plt"
   ]
  },
  {
   "cell_type": "markdown",
   "metadata": {
    "application/vnd.databricks.v1+cell": {
     "cellMetadata": {},
     "inputWidgets": {},
     "nuid": "69e5fe04-0592-49d7-af8d-553771777536",
     "showTitle": false,
     "tableResultSettingsMap": {},
     "title": ""
    }
   },
   "source": [
    "Definición de los grid search para hallar los mejores hiperparámetros sobre los modelos Random Forest y Gradient Boosting, registrando los experimentos en MLflow:"
   ]
  },
  {
   "cell_type": "code",
   "execution_count": 0,
   "metadata": {
    "application/vnd.databricks.v1+cell": {
     "cellMetadata": {},
     "inputWidgets": {},
     "nuid": "22d9b8a9-3c5c-404d-b52a-270210bfc824",
     "showTitle": false,
     "tableResultSettingsMap": {},
     "title": ""
    }
   },
   "outputs": [],
   "source": [
    "models_and_parameters = {\n",
    "    \n",
    "    \"RandomForest\": (\n",
    "        RandomForestRegressor(random_state=42),\n",
    "        {\"n_estimators\": [100, 200],\n",
    "         \"max_depth\": [10, 20, None]}\n",
    "    ),\n",
    "    \n",
    "    \"GradientBoosting\": (\n",
    "        GradientBoostingRegressor(random_state=42),\n",
    "        {\"n_estimators\": [100, 200],\n",
    "         \"learning_rate\": [0.05, 0.1],\n",
    "         \"max_depth\": [3, 5]}\n",
    "    )\n",
    "}\n"
   ]
  },
  {
   "cell_type": "code",
   "execution_count": 0,
   "metadata": {
    "application/vnd.databricks.v1+cell": {
     "cellMetadata": {
      "byteLimit": 2048000,
      "rowLimit": 10000
     },
     "inputWidgets": {},
     "nuid": "caf3fea8-6fd7-49a9-9eda-da5aa253dd04",
     "showTitle": false,
     "tableResultSettingsMap": {},
     "title": ""
    }
   },
   "outputs": [
    {
     "output_type": "stream",
     "name": "stdout",
     "output_type": "stream",
     "text": [
      "Entrenando RandomForest...\n"
     ]
    },
    {
     "output_type": "stream",
     "name": "stderr",
     "output_type": "stream",
     "text": [
      "/databricks/python/lib/python3.11/site-packages/sklearn/base.py:1151: DataConversionWarning: A column-vector y was passed when a 1d array was expected. Please change the shape of y to (n_samples,), for example using ravel().\n  return fit_method(estimator, *args, **kwargs)\n/databricks/python/lib/python3.11/site-packages/sklearn/base.py:1151: DataConversionWarning: A column-vector y was passed when a 1d array was expected. Please change the shape of y to (n_samples,), for example using ravel().\n  return fit_method(estimator, *args, **kwargs)\n/databricks/python/lib/python3.11/site-packages/sklearn/base.py:1151: DataConversionWarning: A column-vector y was passed when a 1d array was expected. Please change the shape of y to (n_samples,), for example using ravel().\n  return fit_method(estimator, *args, **kwargs)\n/databricks/python/lib/python3.11/site-packages/sklearn/base.py:1151: DataConversionWarning: A column-vector y was passed when a 1d array was expected. Please change the shape of y to (n_samples,), for example using ravel().\n  return fit_method(estimator, *args, **kwargs)\n/databricks/python/lib/python3.11/site-packages/sklearn/base.py:1151: DataConversionWarning: A column-vector y was passed when a 1d array was expected. Please change the shape of y to (n_samples,), for example using ravel().\n  return fit_method(estimator, *args, **kwargs)\n/databricks/python/lib/python3.11/site-packages/sklearn/base.py:1151: DataConversionWarning: A column-vector y was passed when a 1d array was expected. Please change the shape of y to (n_samples,), for example using ravel().\n  return fit_method(estimator, *args, **kwargs)\n/databricks/python/lib/python3.11/site-packages/sklearn/base.py:1151: DataConversionWarning: A column-vector y was passed when a 1d array was expected. Please change the shape of y to (n_samples,), for example using ravel().\n  return fit_method(estimator, *args, **kwargs)\n/databricks/python/lib/python3.11/site-packages/sklearn/base.py:1151: DataConversionWarning: A column-vector y was passed when a 1d array was expected. Please change the shape of y to (n_samples,), for example using ravel().\n  return fit_method(estimator, *args, **kwargs)\n/databricks/python/lib/python3.11/site-packages/sklearn/base.py:1151: DataConversionWarning: A column-vector y was passed when a 1d array was expected. Please change the shape of y to (n_samples,), for example using ravel().\n  return fit_method(estimator, *args, **kwargs)\n/databricks/python/lib/python3.11/site-packages/sklearn/base.py:1151: DataConversionWarning: A column-vector y was passed when a 1d array was expected. Please change the shape of y to (n_samples,), for example using ravel().\n  return fit_method(estimator, *args, **kwargs)\n/databricks/python/lib/python3.11/site-packages/sklearn/base.py:1151: DataConversionWarning: A column-vector y was passed when a 1d array was expected. Please change the shape of y to (n_samples,), for example using ravel().\n  return fit_method(estimator, *args, **kwargs)\n/databricks/python/lib/python3.11/site-packages/sklearn/base.py:1151: DataConversionWarning: A column-vector y was passed when a 1d array was expected. Please change the shape of y to (n_samples,), for example using ravel().\n  return fit_method(estimator, *args, **kwargs)\n/databricks/python/lib/python3.11/site-packages/sklearn/base.py:1151: DataConversionWarning: A column-vector y was passed when a 1d array was expected. Please change the shape of y to (n_samples,), for example using ravel().\n  return fit_method(estimator, *args, **kwargs)\n/databricks/python/lib/python3.11/site-packages/sklearn/base.py:1151: DataConversionWarning: A column-vector y was passed when a 1d array was expected. Please change the shape of y to (n_samples,), for example using ravel().\n  return fit_method(estimator, *args, **kwargs)\n/databricks/python/lib/python3.11/site-packages/sklearn/base.py:1151: DataConversionWarning: A column-vector y was passed when a 1d array was expected. Please change the shape of y to (n_samples,), for example using ravel().\n  return fit_method(estimator, *args, **kwargs)\n/databricks/python/lib/python3.11/site-packages/sklearn/base.py:1151: DataConversionWarning: A column-vector y was passed when a 1d array was expected. Please change the shape of y to (n_samples,), for example using ravel().\n  return fit_method(estimator, *args, **kwargs)\n/databricks/python/lib/python3.11/site-packages/sklearn/base.py:1151: DataConversionWarning: A column-vector y was passed when a 1d array was expected. Please change the shape of y to (n_samples,), for example using ravel().\n  return fit_method(estimator, *args, **kwargs)\n/databricks/python/lib/python3.11/site-packages/sklearn/base.py:1151: DataConversionWarning: A column-vector y was passed when a 1d array was expected. Please change the shape of y to (n_samples,), for example using ravel().\n  return fit_method(estimator, *args, **kwargs)\n2025/09/06 16:21:34 WARNING mlflow.models.model: Model logged without a signature. Signatures will be required for upcoming model registry features as they validate model inputs and denote the expected schema of model outputs. Please visit https://www.mlflow.org/docs/2.11.4/models.html#set-signature-on-logged-model for instructions on setting a model signature on your logged model.\n"
     ]
    },
    {
     "output_type": "stream",
     "name": "stdout",
     "output_type": "stream",
     "text": [
      "RandomForest → RMSE: 15.37, R2: 0.52\nEntrenando GradientBoosting...\n"
     ]
    },
    {
     "output_type": "stream",
     "name": "stderr",
     "output_type": "stream",
     "text": [
      "/databricks/python/lib/python3.11/site-packages/sklearn/ensemble/_gb.py:424: DataConversionWarning: A column-vector y was passed when a 1d array was expected. Please change the shape of y to (n_samples, ), for example using ravel().\n  y = column_or_1d(y, warn=True)\n/databricks/python/lib/python3.11/site-packages/sklearn/ensemble/_gb.py:424: DataConversionWarning: A column-vector y was passed when a 1d array was expected. Please change the shape of y to (n_samples, ), for example using ravel().\n  y = column_or_1d(y, warn=True)\n/databricks/python/lib/python3.11/site-packages/sklearn/ensemble/_gb.py:424: DataConversionWarning: A column-vector y was passed when a 1d array was expected. Please change the shape of y to (n_samples, ), for example using ravel().\n  y = column_or_1d(y, warn=True)\n/databricks/python/lib/python3.11/site-packages/sklearn/ensemble/_gb.py:424: DataConversionWarning: A column-vector y was passed when a 1d array was expected. Please change the shape of y to (n_samples, ), for example using ravel().\n  y = column_or_1d(y, warn=True)\n/databricks/python/lib/python3.11/site-packages/sklearn/ensemble/_gb.py:424: DataConversionWarning: A column-vector y was passed when a 1d array was expected. Please change the shape of y to (n_samples, ), for example using ravel().\n  y = column_or_1d(y, warn=True)\n/databricks/python/lib/python3.11/site-packages/sklearn/ensemble/_gb.py:424: DataConversionWarning: A column-vector y was passed when a 1d array was expected. Please change the shape of y to (n_samples, ), for example using ravel().\n  y = column_or_1d(y, warn=True)\n/databricks/python/lib/python3.11/site-packages/sklearn/ensemble/_gb.py:424: DataConversionWarning: A column-vector y was passed when a 1d array was expected. Please change the shape of y to (n_samples, ), for example using ravel().\n  y = column_or_1d(y, warn=True)\n/databricks/python/lib/python3.11/site-packages/sklearn/ensemble/_gb.py:424: DataConversionWarning: A column-vector y was passed when a 1d array was expected. Please change the shape of y to (n_samples, ), for example using ravel().\n  y = column_or_1d(y, warn=True)\n/databricks/python/lib/python3.11/site-packages/sklearn/ensemble/_gb.py:424: DataConversionWarning: A column-vector y was passed when a 1d array was expected. Please change the shape of y to (n_samples, ), for example using ravel().\n  y = column_or_1d(y, warn=True)\n/databricks/python/lib/python3.11/site-packages/sklearn/ensemble/_gb.py:424: DataConversionWarning: A column-vector y was passed when a 1d array was expected. Please change the shape of y to (n_samples, ), for example using ravel().\n  y = column_or_1d(y, warn=True)\n/databricks/python/lib/python3.11/site-packages/sklearn/ensemble/_gb.py:424: DataConversionWarning: A column-vector y was passed when a 1d array was expected. Please change the shape of y to (n_samples, ), for example using ravel().\n  y = column_or_1d(y, warn=True)\n/databricks/python/lib/python3.11/site-packages/sklearn/ensemble/_gb.py:424: DataConversionWarning: A column-vector y was passed when a 1d array was expected. Please change the shape of y to (n_samples, ), for example using ravel().\n  y = column_or_1d(y, warn=True)\n/databricks/python/lib/python3.11/site-packages/sklearn/ensemble/_gb.py:424: DataConversionWarning: A column-vector y was passed when a 1d array was expected. Please change the shape of y to (n_samples, ), for example using ravel().\n  y = column_or_1d(y, warn=True)\n/databricks/python/lib/python3.11/site-packages/sklearn/ensemble/_gb.py:424: DataConversionWarning: A column-vector y was passed when a 1d array was expected. Please change the shape of y to (n_samples, ), for example using ravel().\n  y = column_or_1d(y, warn=True)\n/databricks/python/lib/python3.11/site-packages/sklearn/ensemble/_gb.py:424: DataConversionWarning: A column-vector y was passed when a 1d array was expected. Please change the shape of y to (n_samples, ), for example using ravel().\n  y = column_or_1d(y, warn=True)\n/databricks/python/lib/python3.11/site-packages/sklearn/ensemble/_gb.py:424: DataConversionWarning: A column-vector y was passed when a 1d array was expected. Please change the shape of y to (n_samples, ), for example using ravel().\n  y = column_or_1d(y, warn=True)\n/databricks/python/lib/python3.11/site-packages/sklearn/ensemble/_gb.py:424: DataConversionWarning: A column-vector y was passed when a 1d array was expected. Please change the shape of y to (n_samples, ), for example using ravel().\n  y = column_or_1d(y, warn=True)\n/databricks/python/lib/python3.11/site-packages/sklearn/ensemble/_gb.py:424: DataConversionWarning: A column-vector y was passed when a 1d array was expected. Please change the shape of y to (n_samples, ), for example using ravel().\n  y = column_or_1d(y, warn=True)\n/databricks/python/lib/python3.11/site-packages/sklearn/ensemble/_gb.py:424: DataConversionWarning: A column-vector y was passed when a 1d array was expected. Please change the shape of y to (n_samples, ), for example using ravel().\n  y = column_or_1d(y, warn=True)\n/databricks/python/lib/python3.11/site-packages/sklearn/ensemble/_gb.py:424: DataConversionWarning: A column-vector y was passed when a 1d array was expected. Please change the shape of y to (n_samples, ), for example using ravel().\n  y = column_or_1d(y, warn=True)\n/databricks/python/lib/python3.11/site-packages/sklearn/ensemble/_gb.py:424: DataConversionWarning: A column-vector y was passed when a 1d array was expected. Please change the shape of y to (n_samples, ), for example using ravel().\n  y = column_or_1d(y, warn=True)\n/databricks/python/lib/python3.11/site-packages/sklearn/ensemble/_gb.py:424: DataConversionWarning: A column-vector y was passed when a 1d array was expected. Please change the shape of y to (n_samples, ), for example using ravel().\n  y = column_or_1d(y, warn=True)\n/databricks/python/lib/python3.11/site-packages/sklearn/ensemble/_gb.py:424: DataConversionWarning: A column-vector y was passed when a 1d array was expected. Please change the shape of y to (n_samples, ), for example using ravel().\n  y = column_or_1d(y, warn=True)\n/databricks/python/lib/python3.11/site-packages/sklearn/ensemble/_gb.py:424: DataConversionWarning: A column-vector y was passed when a 1d array was expected. Please change the shape of y to (n_samples, ), for example using ravel().\n  y = column_or_1d(y, warn=True)\n2025/09/06 16:35:25 WARNING mlflow.models.model: Model logged without a signature. Signatures will be required for upcoming model registry features as they validate model inputs and denote the expected schema of model outputs. Please visit https://www.mlflow.org/docs/2.11.4/models.html#set-signature-on-logged-model for instructions on setting a model signature on your logged model.\n"
     ]
    },
    {
     "output_type": "stream",
     "name": "stdout",
     "output_type": "stream",
     "text": [
      "GradientBoosting → RMSE: 18.16, R2: 0.33\n"
     ]
    },
    {
     "output_type": "display_data",
     "data": {
      "text/plain": [
       "<Figure size 800x500 with 0 Axes>"
      ]
     },
     "metadata": {},
     "output_type": "display_data"
    },
    {
     "output_type": "display_data",
     "data": {
      "text/plain": [
       "<Figure size 800x500 with 0 Axes>"
      ]
     },
     "metadata": {},
     "output_type": "display_data"
    }
   ],
   "source": [
    "\n",
    "for model_name, (model, param_grid) in models_and_parameters.items():\n",
    "    with mlflow.start_run(run_name=model_name):\n",
    "        print(f\"Entrenando {model_name}...\")\n",
    "\n",
    "        # Grid search\n",
    "        grid = GridSearchCV(\n",
    "            estimator=model,\n",
    "            param_grid=param_grid,\n",
    "            cv=3,\n",
    "            scoring=\"neg_mean_squared_error\",\n",
    "            n_jobs=-1\n",
    "        )\n",
    "        grid.fit(X_train, y_train)\n",
    "\n",
    "        best_model = grid.best_estimator_\n",
    "\n",
    "        # Predicciones\n",
    "        y_pred = best_model.predict(X_test)\n",
    "\n",
    "        # Métricas\n",
    "        rmse = mean_squared_error(y_test, y_pred, squared=False)\n",
    "        r2 = r2_score(y_test, y_pred)\n",
    "\n",
    "        # Log en MLflow\n",
    "        mlflow.log_params(grid.best_params_)\n",
    "        mlflow.log_metric(\"rmse\", rmse)\n",
    "        mlflow.log_metric(\"r2\", r2)\n",
    "\n",
    "        # Guardar modelo\n",
    "        mlflow.sklearn.log_model(best_model, model_name)\n",
    "\n",
    "        print(f\"{model_name} → RMSE: {rmse:.2f}, R2: {r2:.2f}\")\n",
    "\n",
    "        # =============================\n",
    "        # Importancia de variables\n",
    "        # =============================\n",
    "        if hasattr(best_model, \"feature_importances_\"):\n",
    "            importances = best_model.feature_importances_\n",
    "            feature_names = X_train.columns if hasattr(X_train, \"columns\") else [f\"f{i}\" for i in range(len(importances))]\n",
    "\n",
    "            # Crear dataframe ordenado\n",
    "            importance_df = pd.DataFrame({\n",
    "                \"feature\": feature_names,\n",
    "                \"importance\": importances\n",
    "            }).sort_values(by=\"importance\", ascending=False)\n",
    "\n",
    "            # Guardar como csv en MLflow\n",
    "            importance_csv = f\"{model_name}_feature_importances.csv\"\n",
    "            importance_df.to_csv(importance_csv, index=False)\n",
    "            mlflow.log_artifact(importance_csv)\n",
    "\n",
    "            # Gráfico\n",
    "            plt.figure(figsize=(8, 5))\n",
    "            importance_df.set_index(\"feature\").head(15).plot(kind=\"barh\", legend=False)\n",
    "            plt.gca().invert_yaxis()\n",
    "            plt.title(f\"Top 15 Importancias - {model_name}\")\n",
    "            plt.tight_layout()\n",
    "            plt.savefig(f\"{model_name}_feature_importances.png\")\n",
    "            mlflow.log_artifact(f\"{model_name}_feature_importances.png\")\n",
    "            plt.close()"
   ]
  },
  {
   "cell_type": "code",
   "execution_count": 0,
   "metadata": {
    "application/vnd.databricks.v1+cell": {
     "cellMetadata": {
      "byteLimit": 2048000,
      "rowLimit": 10000
     },
     "inputWidgets": {},
     "nuid": "7d38ca5e-15ed-45cf-8726-f7b245e3dd60",
     "showTitle": false,
     "tableResultSettingsMap": {},
     "title": ""
    }
   },
   "outputs": [],
   "source": [
    "import mlflow.xgboost\n",
    "from sklearn.metrics import accuracy_score, f1_score, classification_report\n",
    "from sklearn.ensemble import AdaBoostClassifier\n",
    "from xgboost import XGBClassifier\n",
    "import numpy as np"
   ]
  },
  {
   "cell_type": "code",
   "execution_count": 0,
   "metadata": {
    "application/vnd.databricks.v1+cell": {
     "cellMetadata": {
      "byteLimit": 2048000,
      "rowLimit": 10000
     },
     "inputWidgets": {},
     "nuid": "155b6e50-0be5-4b5f-a038-7756a894d07d",
     "showTitle": false,
     "tableResultSettingsMap": {},
     "title": ""
    }
   },
   "outputs": [],
   "source": [
    "def categorize_popularity(y):\n",
    "    return pd.cut(\n",
    "        y,\n",
    "        bins=[-np.inf, 30, 60, np.inf],\n",
    "        labels=[0, 1, 2]\n",
    "    )"
   ]
  },
  {
   "cell_type": "code",
   "execution_count": 0,
   "metadata": {
    "application/vnd.databricks.v1+cell": {
     "cellMetadata": {
      "byteLimit": 2048000,
      "rowLimit": 10000
     },
     "inputWidgets": {},
     "nuid": "6bd683b0-54e5-4ef2-83c2-94a044274639",
     "showTitle": false,
     "tableResultSettingsMap": {},
     "title": ""
    }
   },
   "outputs": [],
   "source": [
    "y_train_cat=categorize_popularity(y_train['popularity'])\n",
    "y_test_cat=categorize_popularity(y_test['popularity'])"
   ]
  },
  {
   "cell_type": "code",
   "execution_count": 0,
   "metadata": {
    "application/vnd.databricks.v1+cell": {
     "cellMetadata": {
      "byteLimit": 2048000,
      "rowLimit": 10000
     },
     "inputWidgets": {},
     "nuid": "7f7cb4a4-4ae8-4508-b3ed-3aa2648ebff7",
     "showTitle": false,
     "tableResultSettingsMap": {},
     "title": ""
    }
   },
   "outputs": [
    {
     "output_type": "execute_result",
     "data": {
      "text/plain": [
       "0        1\n",
       "1        1\n",
       "2        0\n",
       "3        1\n",
       "4        0\n",
       "        ..\n",
       "91194    1\n",
       "91195    1\n",
       "91196    1\n",
       "91197    2\n",
       "91198    0\n",
       "Name: popularity, Length: 91199, dtype: category\n",
       "Categories (3, int64): [0 < 1 < 2]"
      ]
     },
     "execution_count": 48,
     "metadata": {},
     "output_type": "execute_result"
    }
   ],
   "source": [
    "y_train_cat"
   ]
  },
  {
   "cell_type": "code",
   "execution_count": 0,
   "metadata": {
    "application/vnd.databricks.v1+cell": {
     "cellMetadata": {
      "byteLimit": 2048000,
      "rowLimit": 10000
     },
     "inputWidgets": {},
     "nuid": "ff9ce507-733d-48a2-bb38-23e9b98670c0",
     "showTitle": false,
     "tableResultSettingsMap": {},
     "title": ""
    }
   },
   "outputs": [
    {
     "output_type": "stream",
     "name": "stdout",
     "output_type": "stream",
     "text": [
      "Entrenando AdaBoost...\nAdaBoost → Acc: 0.598, F1-macro: 0.448\n              precision    recall  f1-score   support\n\n           0       0.61      0.70      0.65     10467\n           1       0.59      0.64      0.61      9645\n           2       0.47      0.04      0.08      2688\n\n    accuracy                           0.60     22800\n   macro avg       0.56      0.46      0.45     22800\nweighted avg       0.58      0.60      0.57     22800\n\n"
     ]
    },
    {
     "output_type": "stream",
     "name": "stderr",
     "output_type": "stream",
     "text": [
      "2025/09/06 16:56:41 WARNING mlflow.models.model: Model logged without a signature. Signatures will be required for upcoming model registry features as they validate model inputs and denote the expected schema of model outputs. Please visit https://www.mlflow.org/docs/2.11.4/models.html#set-signature-on-logged-model for instructions on setting a model signature on your logged model.\n"
     ]
    },
    {
     "output_type": "stream",
     "name": "stdout",
     "output_type": "stream",
     "text": [
      "Entrenando XGBoost...\n"
     ]
    },
    {
     "output_type": "stream",
     "name": "stderr",
     "output_type": "stream",
     "text": [
      "/local_disk0/.ephemeral_nfs/envs/pythonEnv-e37422e6-40b4-44da-b516-066718ef42bc/lib/python3.11/site-packages/xgboost/training.py:183: UserWarning: [16:56:43] WARNING: /workspace/src/learner.cc:738: \nParameters: { \"use_label_encoder\" } are not used.\n\n  bst.update(dtrain, iteration=i, fobj=obj)\n/local_disk0/.ephemeral_nfs/envs/pythonEnv-e37422e6-40b4-44da-b516-066718ef42bc/lib/python3.11/site-packages/xgboost/training.py:183: UserWarning: [16:56:43] WARNING: /workspace/src/learner.cc:738: \nParameters: { \"use_label_encoder\" } are not used.\n\n  bst.update(dtrain, iteration=i, fobj=obj)\n/local_disk0/.ephemeral_nfs/envs/pythonEnv-e37422e6-40b4-44da-b516-066718ef42bc/lib/python3.11/site-packages/xgboost/training.py:183: UserWarning: [16:56:44] WARNING: /workspace/src/learner.cc:738: \nParameters: { \"use_label_encoder\" } are not used.\n\n  bst.update(dtrain, iteration=i, fobj=obj)\n/local_disk0/.ephemeral_nfs/envs/pythonEnv-e37422e6-40b4-44da-b516-066718ef42bc/lib/python3.11/site-packages/xgboost/training.py:183: UserWarning: [16:56:45] WARNING: /workspace/src/learner.cc:738: \nParameters: { \"use_label_encoder\" } are not used.\n\n  bst.update(dtrain, iteration=i, fobj=obj)\n/local_disk0/.ephemeral_nfs/envs/pythonEnv-e37422e6-40b4-44da-b516-066718ef42bc/lib/python3.11/site-packages/xgboost/training.py:183: UserWarning: [16:56:46] WARNING: /workspace/src/learner.cc:738: \nParameters: { \"use_label_encoder\" } are not used.\n\n  bst.update(dtrain, iteration=i, fobj=obj)\n/local_disk0/.ephemeral_nfs/envs/pythonEnv-e37422e6-40b4-44da-b516-066718ef42bc/lib/python3.11/site-packages/xgboost/training.py:183: UserWarning: [16:56:47] WARNING: /workspace/src/learner.cc:738: \nParameters: { \"use_label_encoder\" } are not used.\n\n  bst.update(dtrain, iteration=i, fobj=obj)\n/local_disk0/.ephemeral_nfs/envs/pythonEnv-e37422e6-40b4-44da-b516-066718ef42bc/lib/python3.11/site-packages/xgboost/training.py:183: UserWarning: [16:56:49] WARNING: /workspace/src/learner.cc:738: \nParameters: { \"use_label_encoder\" } are not used.\n\n  bst.update(dtrain, iteration=i, fobj=obj)\n/local_disk0/.ephemeral_nfs/envs/pythonEnv-e37422e6-40b4-44da-b516-066718ef42bc/lib/python3.11/site-packages/xgboost/training.py:183: UserWarning: [16:56:51] WARNING: /workspace/src/learner.cc:738: \nParameters: { \"use_label_encoder\" } are not used.\n\n  bst.update(dtrain, iteration=i, fobj=obj)\n/local_disk0/.ephemeral_nfs/envs/pythonEnv-e37422e6-40b4-44da-b516-066718ef42bc/lib/python3.11/site-packages/xgboost/training.py:183: UserWarning: [16:56:52] WARNING: /workspace/src/learner.cc:738: \nParameters: { \"use_label_encoder\" } are not used.\n\n  bst.update(dtrain, iteration=i, fobj=obj)\n/local_disk0/.ephemeral_nfs/envs/pythonEnv-e37422e6-40b4-44da-b516-066718ef42bc/lib/python3.11/site-packages/xgboost/training.py:183: UserWarning: [16:56:53] WARNING: /workspace/src/learner.cc:738: \nParameters: { \"use_label_encoder\" } are not used.\n\n  bst.update(dtrain, iteration=i, fobj=obj)\n/local_disk0/.ephemeral_nfs/envs/pythonEnv-e37422e6-40b4-44da-b516-066718ef42bc/lib/python3.11/site-packages/xgboost/training.py:183: UserWarning: [16:56:55] WARNING: /workspace/src/learner.cc:738: \nParameters: { \"use_label_encoder\" } are not used.\n\n  bst.update(dtrain, iteration=i, fobj=obj)\n/local_disk0/.ephemeral_nfs/envs/pythonEnv-e37422e6-40b4-44da-b516-066718ef42bc/lib/python3.11/site-packages/xgboost/training.py:183: UserWarning: [16:56:58] WARNING: /workspace/src/learner.cc:738: \nParameters: { \"use_label_encoder\" } are not used.\n\n  bst.update(dtrain, iteration=i, fobj=obj)\n/local_disk0/.ephemeral_nfs/envs/pythonEnv-e37422e6-40b4-44da-b516-066718ef42bc/lib/python3.11/site-packages/xgboost/training.py:183: UserWarning: [16:56:59] WARNING: /workspace/src/learner.cc:738: \nParameters: { \"use_label_encoder\" } are not used.\n\n  bst.update(dtrain, iteration=i, fobj=obj)\n/local_disk0/.ephemeral_nfs/envs/pythonEnv-e37422e6-40b4-44da-b516-066718ef42bc/lib/python3.11/site-packages/xgboost/training.py:183: UserWarning: [16:57:01] WARNING: /workspace/src/learner.cc:738: \nParameters: { \"use_label_encoder\" } are not used.\n\n  bst.update(dtrain, iteration=i, fobj=obj)\n/local_disk0/.ephemeral_nfs/envs/pythonEnv-e37422e6-40b4-44da-b516-066718ef42bc/lib/python3.11/site-packages/xgboost/training.py:183: UserWarning: [16:57:03] WARNING: /workspace/src/learner.cc:738: \nParameters: { \"use_label_encoder\" } are not used.\n\n  bst.update(dtrain, iteration=i, fobj=obj)\n/local_disk0/.ephemeral_nfs/envs/pythonEnv-e37422e6-40b4-44da-b516-066718ef42bc/lib/python3.11/site-packages/xgboost/training.py:183: UserWarning: [16:57:03] WARNING: /workspace/src/learner.cc:738: \nParameters: { \"use_label_encoder\" } are not used.\n\n  bst.update(dtrain, iteration=i, fobj=obj)\n/local_disk0/.ephemeral_nfs/envs/pythonEnv-e37422e6-40b4-44da-b516-066718ef42bc/lib/python3.11/site-packages/xgboost/training.py:183: UserWarning: [16:57:05] WARNING: /workspace/src/learner.cc:738: \nParameters: { \"use_label_encoder\" } are not used.\n\n  bst.update(dtrain, iteration=i, fobj=obj)\n/local_disk0/.ephemeral_nfs/envs/pythonEnv-e37422e6-40b4-44da-b516-066718ef42bc/lib/python3.11/site-packages/xgboost/training.py:183: UserWarning: [16:57:07] WARNING: /workspace/src/learner.cc:738: \nParameters: { \"use_label_encoder\" } are not used.\n\n  bst.update(dtrain, iteration=i, fobj=obj)\n/local_disk0/.ephemeral_nfs/envs/pythonEnv-e37422e6-40b4-44da-b516-066718ef42bc/lib/python3.11/site-packages/xgboost/training.py:183: UserWarning: [16:57:08] WARNING: /workspace/src/learner.cc:738: \nParameters: { \"use_label_encoder\" } are not used.\n\n  bst.update(dtrain, iteration=i, fobj=obj)\n/local_disk0/.ephemeral_nfs/envs/pythonEnv-e37422e6-40b4-44da-b516-066718ef42bc/lib/python3.11/site-packages/xgboost/training.py:183: UserWarning: [16:57:10] WARNING: /workspace/src/learner.cc:738: \nParameters: { \"use_label_encoder\" } are not used.\n\n  bst.update(dtrain, iteration=i, fobj=obj)\n/local_disk0/.ephemeral_nfs/envs/pythonEnv-e37422e6-40b4-44da-b516-066718ef42bc/lib/python3.11/site-packages/xgboost/training.py:183: UserWarning: [16:57:10] WARNING: /workspace/src/learner.cc:738: \nParameters: { \"use_label_encoder\" } are not used.\n\n  bst.update(dtrain, iteration=i, fobj=obj)\n/local_disk0/.ephemeral_nfs/envs/pythonEnv-e37422e6-40b4-44da-b516-066718ef42bc/lib/python3.11/site-packages/xgboost/training.py:183: UserWarning: [16:57:12] WARNING: /workspace/src/learner.cc:738: \nParameters: { \"use_label_encoder\" } are not used.\n\n  bst.update(dtrain, iteration=i, fobj=obj)\n/local_disk0/.ephemeral_nfs/envs/pythonEnv-e37422e6-40b4-44da-b516-066718ef42bc/lib/python3.11/site-packages/xgboost/training.py:183: UserWarning: [16:57:12] WARNING: /workspace/src/learner.cc:738: \nParameters: { \"use_label_encoder\" } are not used.\n\n  bst.update(dtrain, iteration=i, fobj=obj)\n/local_disk0/.ephemeral_nfs/envs/pythonEnv-e37422e6-40b4-44da-b516-066718ef42bc/lib/python3.11/site-packages/xgboost/training.py:183: UserWarning: [16:57:16] WARNING: /workspace/src/learner.cc:738: \nParameters: { \"use_label_encoder\" } are not used.\n\n  bst.update(dtrain, iteration=i, fobj=obj)\n"
     ]
    },
    {
     "output_type": "stream",
     "name": "stdout",
     "output_type": "stream",
     "text": [
      "XGBoost → Acc: 0.717, F1-macro: 0.596\n              precision    recall  f1-score   support\n\n           0       0.74      0.80      0.77     10467\n           1       0.71      0.77      0.74      9645\n           2       0.62      0.18      0.28      2688\n\n    accuracy                           0.72     22800\n   macro avg       0.69      0.59      0.60     22800\nweighted avg       0.71      0.72      0.70     22800\n\n"
     ]
    },
    {
     "output_type": "stream",
     "name": "stderr",
     "output_type": "stream",
     "text": [
      "2025/09/06 16:57:29 WARNING mlflow.models.model: Model logged without a signature. Signatures will be required for upcoming model registry features as they validate model inputs and denote the expected schema of model outputs. Please visit https://www.mlflow.org/docs/2.11.4/models.html#set-signature-on-logged-model for instructions on setting a model signature on your logged model.\n"
     ]
    },
    {
     "output_type": "display_data",
     "data": {
      "text/plain": [
       "<Figure size 800x500 with 0 Axes>"
      ]
     },
     "metadata": {},
     "output_type": "display_data"
    },
    {
     "output_type": "display_data",
     "data": {
      "text/plain": [
       "<Figure size 800x500 with 0 Axes>"
      ]
     },
     "metadata": {},
     "output_type": "display_data"
    }
   ],
   "source": [
    "models_and_parameters = {\n",
    "    \"AdaBoost\": (\n",
    "        AdaBoostClassifier(random_state=42),\n",
    "        {\"n_estimators\": [50, 100], \"learning_rate\": [0.5, 1.0]}\n",
    "    ),\n",
    "    \"XGBoost\": (\n",
    "        XGBClassifier(use_label_encoder=False, eval_metric=\"mlogloss\", random_state=42),\n",
    "        {\"n_estimators\": [100, 200], \"max_depth\": [3, 5], \"learning_rate\": [0.05, 0.1]}\n",
    "    )\n",
    "}\n",
    "\n",
    "# ====================================\n",
    "# 3. Experimentos con MLflow\n",
    "# ====================================\n",
    "mlflow.set_registry_uri(\"databricks-uc\")\n",
    "mlflow.set_experiment(\"/song_popularity_prediction_cat\")\n",
    "\n",
    "for model_name, (model, param_grid) in models_and_parameters.items():\n",
    "    with mlflow.start_run(run_name=model_name):\n",
    "        print(f\"Entrenando {model_name}...\")\n",
    "\n",
    "        # Grid search\n",
    "        grid = GridSearchCV(\n",
    "            estimator=model,\n",
    "            param_grid=param_grid,\n",
    "            cv=3,\n",
    "            scoring=\"f1_macro\",\n",
    "            n_jobs=-1\n",
    "        )\n",
    "        grid.fit(X_train, y_train_cat)\n",
    "\n",
    "        best_model = grid.best_estimator_\n",
    "\n",
    "        # Predicciones\n",
    "        y_pred = best_model.predict(X_test)\n",
    "\n",
    "        # Métricas\n",
    "        acc = accuracy_score(y_test_cat, y_pred)\n",
    "        f1 = f1_score(y_test_cat, y_pred, average=\"macro\")\n",
    "\n",
    "        print(f\"{model_name} → Acc: {acc:.3f}, F1-macro: {f1:.3f}\")\n",
    "        print(classification_report(y_test_cat, y_pred))\n",
    "\n",
    "        # Log en MLflow\n",
    "        mlflow.log_params(grid.best_params_)\n",
    "        mlflow.log_metric(\"accuracy\", acc)\n",
    "        mlflow.log_metric(\"f1_macro\", f1)\n",
    "\n",
    "        # Guardar modelo\n",
    "        if model_name == \"XGBoost\":\n",
    "            mlflow.xgboost.log_model(best_model, model_name)\n",
    "        else:\n",
    "            mlflow.sklearn.log_model(best_model, model_name)\n",
    "\n",
    "        # =============================\n",
    "        # Importancia de variables\n",
    "        # =============================\n",
    "        if hasattr(best_model, \"feature_importances_\"):\n",
    "            importances = best_model.feature_importances_\n",
    "            feature_names = X_train.columns if hasattr(X_train, \"columns\") else [f\"f{i}\" for i in range(len(importances))]\n",
    "\n",
    "            # DataFrame ordenado\n",
    "            importance_df = pd.DataFrame({\n",
    "                \"feature\": feature_names,\n",
    "                \"importance\": importances\n",
    "            }).sort_values(by=\"importance\", ascending=False)\n",
    "\n",
    "            # Guardar CSV en MLflow\n",
    "            importance_csv = f\"{model_name}_feature_importances.csv\"\n",
    "            importance_df.to_csv(importance_csv, index=False)\n",
    "            mlflow.log_artifact(importance_csv)\n",
    "\n",
    "            # Gráfico\n",
    "            plt.figure(figsize=(8, 5))\n",
    "            importance_df.set_index(\"feature\").head(15).plot(kind=\"barh\", legend=False)\n",
    "            plt.gca().invert_yaxis()\n",
    "            plt.title(f\"Top 15 Importancias - {model_name}\")\n",
    "            plt.tight_layout()\n",
    "            plt.savefig(f\"{model_name}_feature_importances.png\")\n",
    "            mlflow.log_artifact(f\"{model_name}_feature_importances.png\")\n",
    "            plt.close()"
   ]
  },
  {
   "cell_type": "code",
   "execution_count": 0,
   "metadata": {
    "application/vnd.databricks.v1+cell": {
     "cellMetadata": {
      "byteLimit": 2048000,
      "rowLimit": 10000
     },
     "inputWidgets": {},
     "nuid": "700498bc-8cbb-4fdb-a698-35439f0e3b68",
     "showTitle": false,
     "tableResultSettingsMap": {},
     "title": ""
    }
   },
   "outputs": [
    {
     "output_type": "execute_result",
     "data": {
      "text/html": [
       "<div>\n",
       "<style scoped>\n",
       "    .dataframe tbody tr th:only-of-type {\n",
       "        vertical-align: middle;\n",
       "    }\n",
       "\n",
       "    .dataframe tbody tr th {\n",
       "        vertical-align: top;\n",
       "    }\n",
       "\n",
       "    .dataframe thead th {\n",
       "        text-align: right;\n",
       "    }\n",
       "</style>\n",
       "<table border=\"1\" class=\"dataframe\">\n",
       "  <thead>\n",
       "    <tr style=\"text-align: right;\">\n",
       "      <th></th>\n",
       "      <th>feature</th>\n",
       "      <th>importance</th>\n",
       "    </tr>\n",
       "  </thead>\n",
       "  <tbody>\n",
       "    <tr>\n",
       "      <th>12</th>\n",
       "      <td>track_genre</td>\n",
       "      <td>0.228872</td>\n",
       "    </tr>\n",
       "    <tr>\n",
       "      <th>8</th>\n",
       "      <td>instrumentalness</td>\n",
       "      <td>0.081911</td>\n",
       "    </tr>\n",
       "    <tr>\n",
       "      <th>7</th>\n",
       "      <td>acousticness</td>\n",
       "      <td>0.076135</td>\n",
       "    </tr>\n",
       "    <tr>\n",
       "      <th>16</th>\n",
       "      <td>time_signature_4</td>\n",
       "      <td>0.071251</td>\n",
       "    </tr>\n",
       "    <tr>\n",
       "      <th>1</th>\n",
       "      <td>explicit</td>\n",
       "      <td>0.060934</td>\n",
       "    </tr>\n",
       "    <tr>\n",
       "      <th>0</th>\n",
       "      <td>duration_ms</td>\n",
       "      <td>0.053854</td>\n",
       "    </tr>\n",
       "    <tr>\n",
       "      <th>5</th>\n",
       "      <td>loudness</td>\n",
       "      <td>0.052993</td>\n",
       "    </tr>\n",
       "    <tr>\n",
       "      <th>3</th>\n",
       "      <td>energy</td>\n",
       "      <td>0.052531</td>\n",
       "    </tr>\n",
       "    <tr>\n",
       "      <th>2</th>\n",
       "      <td>danceability</td>\n",
       "      <td>0.050552</td>\n",
       "    </tr>\n",
       "    <tr>\n",
       "      <th>10</th>\n",
       "      <td>valence</td>\n",
       "      <td>0.049867</td>\n",
       "    </tr>\n",
       "    <tr>\n",
       "      <th>6</th>\n",
       "      <td>speechiness</td>\n",
       "      <td>0.049450</td>\n",
       "    </tr>\n",
       "    <tr>\n",
       "      <th>9</th>\n",
       "      <td>liveness</td>\n",
       "      <td>0.042007</td>\n",
       "    </tr>\n",
       "    <tr>\n",
       "      <th>15</th>\n",
       "      <td>time_signature_3</td>\n",
       "      <td>0.032643</td>\n",
       "    </tr>\n",
       "    <tr>\n",
       "      <th>11</th>\n",
       "      <td>tempo</td>\n",
       "      <td>0.030232</td>\n",
       "    </tr>\n",
       "    <tr>\n",
       "      <th>13</th>\n",
       "      <td>mode_1</td>\n",
       "      <td>0.023512</td>\n",
       "    </tr>\n",
       "    <tr>\n",
       "      <th>4</th>\n",
       "      <td>key</td>\n",
       "      <td>0.020022</td>\n",
       "    </tr>\n",
       "    <tr>\n",
       "      <th>17</th>\n",
       "      <td>time_signature_5</td>\n",
       "      <td>0.012725</td>\n",
       "    </tr>\n",
       "    <tr>\n",
       "      <th>14</th>\n",
       "      <td>time_signature_1</td>\n",
       "      <td>0.010509</td>\n",
       "    </tr>\n",
       "  </tbody>\n",
       "</table>\n",
       "</div>"
      ],
      "text/plain": [
       "             feature  importance\n",
       "12       track_genre    0.228872\n",
       "8   instrumentalness    0.081911\n",
       "7       acousticness    0.076135\n",
       "16  time_signature_4    0.071251\n",
       "1           explicit    0.060934\n",
       "0        duration_ms    0.053854\n",
       "5           loudness    0.052993\n",
       "3             energy    0.052531\n",
       "2       danceability    0.050552\n",
       "10           valence    0.049867\n",
       "6        speechiness    0.049450\n",
       "9           liveness    0.042007\n",
       "15  time_signature_3    0.032643\n",
       "11             tempo    0.030232\n",
       "13            mode_1    0.023512\n",
       "4                key    0.020022\n",
       "17  time_signature_5    0.012725\n",
       "14  time_signature_1    0.010509"
      ]
     },
     "execution_count": 72,
     "metadata": {},
     "output_type": "execute_result"
    }
   ],
   "source": [
    "importances = best_model.feature_importances_\n",
    "feature_names = X_train.columns if hasattr(X_train, \"columns\") else [f\"f{i}\" for i in range(len(importances))]\n",
    "# Crear dataframe ordenado\n",
    "importance_df = pd.DataFrame({\n",
    "\"feature\": feature_names,\n",
    "\"importance\": importances}).sort_values(by=\"importance\", ascending=False)\n",
    "importance_df"
   ]
  },
  {
   "cell_type": "code",
   "execution_count": 0,
   "metadata": {
    "application/vnd.databricks.v1+cell": {
     "cellMetadata": {},
     "inputWidgets": {},
     "nuid": "e5372de2-bb74-4a18-ae6b-4368b3f69c88",
     "showTitle": false,
     "tableResultSettingsMap": {},
     "title": ""
    }
   },
   "outputs": [],
   "source": []
  }
 ],
 "metadata": {
  "application/vnd.databricks.v1+notebook": {
   "computePreferences": {
    "hardware": {
     "accelerator": null,
     "gpuPoolId": null,
     "memory": null
    }
   },
   "dashboards": [],
   "environmentMetadata": null,
   "inputWidgetPreferences": null,
   "language": "python",
   "notebookMetadata": {
    "pythonIndentUnit": 4
   },
   "notebookName": "Experiments",
   "widgets": {}
  },
  "kernelspec": {
   "display_name": "base",
   "language": "python",
   "name": "python3"
  },
  "language_info": {
   "name": "python"
  }
 },
 "nbformat": 4,
 "nbformat_minor": 0
}