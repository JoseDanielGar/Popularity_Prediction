{
 "cells": [
  {
   "cell_type": "markdown",
   "id": "85699cf8",
   "metadata": {},
   "source": [
    "# Búsqueda de Hiperparámetros con XGBoost classifier\n",
    "\n",
    "Este notebook realiza la búsqueda de hiperparámetros para un modelo usando XGBoost con las siguientes características:\n",
    "\n",
    "- Carga de datos de entrenamiento desde archivos CSV\n",
    "- Balanceo del conjunto de datos mediante undersampling\n",
    "- Búsqueda de hiperparámetros con Grid Search\n",
    "- Validación cruzada para evaluación robusta\n",
    "- División balanceada para validación (15% del conjunto de entrenamiento)\n",
    "- Visualización de métricas de regresión para los mejores modelos\n",
    "\n",
    "**Autor:** ML Engineer  \n",
    "**Fecha:** 5 de Septiembre, 2025"
   ]
  },
  {
   "cell_type": "markdown",
   "id": "47b0a5ba",
   "metadata": {},
   "source": [
    "## 1. Importar Librerías Requeridas\n",
    "\n",
    "Importar todas las librerías necesarias para el análisis, modelado y visualización."
   ]
  },
  {
   "cell_type": "code",
   "execution_count": 1,
   "id": "2d5e0642",
   "metadata": {},
   "outputs": [
    {
     "name": "stdout",
     "output_type": "stream",
     "text": [
      "✓ Librerías importadas exitosamente!\n",
      "Pandas versión: 2.3.2\n",
      "NumPy versión: 2.3.2\n",
      "Scikit-learn disponible para GridSearchCV y LinearSVR\n"
     ]
    }
   ],
   "source": [
    "import pandas as pd\n",
    "import numpy as np\n",
    "import matplotlib.pyplot as plt\n",
    "import seaborn as sns\n",
    "import warnings\n",
    "from sklearn.model_selection import (\n",
    "    GridSearchCV, \n",
    "    train_test_split, \n",
    "    cross_val_score, \n",
    "    StratifiedShuffleSplit\n",
    ")\n",
    "from sklearn.metrics import (\n",
    "    accuracy_score,\n",
    "    precision_score,\n",
    "    recall_score,\n",
    "    f1_score,\n",
    "    roc_auc_score,\n",
    "    confusion_matrix,\n",
    "    classification_report\n",
    ")\n",
    "\n",
    "from sklearn.preprocessing import LabelBinarizer\n",
    "from imblearn.under_sampling import RandomUnderSampler\n",
    "import joblib\n",
    "from datetime import datetime\n",
    "import xgboost as xgb\n",
    "\n",
    "# Configuración de visualización\n",
    "plt.style.use('seaborn-v0_8')\n",
    "sns.set_palette(\"husl\")\n",
    "warnings.filterwarnings('ignore')\n",
    "\n",
    "# Configuración de pandas\n",
    "pd.set_option('display.max_columns', None)\n",
    "pd.set_option('display.width', None)\n",
    "pd.set_option('display.max_colwidth', 50)\n",
    "\n",
    "print(\"✓ Librerías importadas exitosamente!\")\n",
    "print(f\"Pandas versión: {pd.__version__}\")\n",
    "print(f\"NumPy versión: {np.__version__}\")\n",
    "print(f\"Scikit-learn disponible para GridSearchCV y LinearSVR\")"
   ]
  },
  {
   "cell_type": "markdown",
   "id": "9b1dbd1b",
   "metadata": {},
   "source": [
    "## 2. Cargar Datos de Entrenamiento\n",
    "\n",
    "Cargar las características y variables objetivo desde los archivos CSV generados en el proceso de preparación de datos."
   ]
  },
  {
   "cell_type": "code",
   "execution_count": 2,
   "id": "ed0fea8f",
   "metadata": {},
   "outputs": [
    {
     "name": "stdout",
     "output_type": "stream",
     "text": [
      "CARGA DE DATOS DE ENTRENAMIENTO\n",
      "==================================================\n",
      "✓ Características cargadas desde: ../data/train/X_train.csv\n",
      "  • Forma: (91199, 18)\n",
      "  • Características: 18\n",
      "✓ Variable objetivo cargada desde: ../data/train/y_train.csv\n",
      "  • Forma: (91199,)\n",
      "\n",
      "✓ Datos cargados exitosamente!\n",
      "Total de registros: 91,199\n"
     ]
    }
   ],
   "source": [
    "# Definir rutas de los archivos\n",
    "X_train_path = '../data/train/X_train.csv'\n",
    "y_train_path = '../data/train/y_train.csv'\n",
    "\n",
    "print(\"CARGA DE DATOS DE ENTRENAMIENTO\")\n",
    "print(\"=\" * 50)\n",
    "\n",
    "# Cargar características (X_train)\n",
    "try:\n",
    "    X_train_full = pd.read_csv(X_train_path)\n",
    "    print(f\"✓ Características cargadas desde: {X_train_path}\")\n",
    "    print(f\"  • Forma: {X_train_full.shape}\")\n",
    "    print(f\"  • Características: {X_train_full.shape[1]}\")\n",
    "except FileNotFoundError:\n",
    "    raise FileNotFoundError(f\"Archivo no encontrado: {X_train_path}\")\n",
    "\n",
    "# Cargar variable objetivo (y_train)\n",
    "try:\n",
    "    y_train_full = pd.read_csv(y_train_path)\n",
    "    # Si es un DataFrame con una columna, convertir a Series\n",
    "    if isinstance(y_train_full, pd.DataFrame):\n",
    "        y_train_full = y_train_full.iloc[:, 0]\n",
    "    print(f\"✓ Variable objetivo cargada desde: {y_train_path}\")\n",
    "    print(f\"  • Forma: {y_train_full.shape}\")\n",
    "except FileNotFoundError:\n",
    "    raise FileNotFoundError(f\"Archivo no encontrado: {y_train_path}\")\n",
    "\n",
    "print(f\"\\n✓ Datos cargados exitosamente!\")\n",
    "print(f\"Total de registros: {len(X_train_full):,}\")"
   ]
  },
  {
   "cell_type": "code",
   "execution_count": 3,
   "id": "57a5899c",
   "metadata": {},
   "outputs": [
    {
     "name": "stdout",
     "output_type": "stream",
     "text": [
      "✓ Variable objetivo codificada como binaria (0: no popular, 1: popular)\n",
      "popularity\n",
      "1    50906\n",
      "0    40293\n",
      "Name: count, dtype: int64\n"
     ]
    }
   ],
   "source": [
    "# Codificar la variable objetivo para que sea binaria.\n",
    "# Asumimos que la clase positiva es '1' y la negativa es '0'.\n",
    "# Si el valor de la variable objetivo es menor a 30, se considera como 0 (no popular),\n",
    "# y si es mayor o igual a 300, se considera como 1 (popular).\n",
    "y_train_full = (y_train_full >= 30).astype(int)\n",
    "print(\"✓ Variable objetivo codificada como binaria (0: no popular, 1: popular)\")\n",
    "print(y_train_full.value_counts())"
   ]
  },
  {
   "cell_type": "markdown",
   "id": "15687e73",
   "metadata": {},
   "source": [
    "## 3. División de datos para Validación\n",
    "\n",
    "Crear una división balanceada del 15% del conjunto de entrenamiento para validación final."
   ]
  },
  {
   "cell_type": "code",
   "execution_count": 5,
   "id": "40c71841",
   "metadata": {},
   "outputs": [
    {
     "name": "stdout",
     "output_type": "stream",
     "text": [
      "DIVISIÓN BALANCEADA PARA VALIDACIÓN\n",
      "==================================================\n",
      "División completada:\n",
      "  • Conjunto de entrenamiento: 77,519 registros (85%)\n",
      "  • Conjunto de validación: 13,680 registros (15%)\n",
      "\n",
      "Balanceo en conjunto de validación:\n",
      "  • Clase 0: 6,034 registros (44.1%)\n",
      "  • Clase 1: 7,646 registros (55.9%)\n",
      "\n",
      "✓ División balanceada completada exitosamente!\n"
     ]
    }
   ],
   "source": [
    "# División balanceada para validación (15% del dataset balanceado)\n",
    "print(\"DIVISIÓN BALANCEADA PARA VALIDACIÓN\")\n",
    "print(\"=\" * 50)\n",
    "\n",
    "validation_size = 0.15\n",
    "\n",
    "# Usar StratifiedShuffleSplit para mantener el balanceo\n",
    "#splitter = StratifiedShuffleSplit(\n",
    "#    n_splits=1, \n",
    "#    test_size=validation_size, \n",
    "#    random_state=42\n",
    "#)\n",
    "\n",
    "# Realizar la división\n",
    "#train_idx, val_idx = next(splitter.split(X_train_full, y_train_full))\n",
    "\n",
    "#X_train = X_train_full.iloc[train_idx]\n",
    "#X_val = X_train_full.iloc[val_idx]\n",
    "#y_train = y_train_full.iloc[train_idx]\n",
    "#y_val = y_train_full.iloc[val_idx]\n",
    "\n",
    "X_train, X_val, y_train, y_val = train_test_split(X_train_full, y_train_full, test_size=validation_size, random_state=42, shuffle=True)\n",
    "\n",
    "print(f\"División completada:\")\n",
    "print(f\"  • Conjunto de entrenamiento: {len(X_train):,} registros ({(1-validation_size)*100:.0f}%)\")\n",
    "print(f\"  • Conjunto de validación: {len(X_val):,} registros ({validation_size*100:.0f}%)\")\n",
    "\n",
    "print(f\"\\nBalanceo en conjunto de validación:\")\n",
    "val_dist = y_val.value_counts().sort_index()\n",
    "for value, count in val_dist.items():\n",
    "    print(f\"  • Clase {value}: {count:,} registros ({count/len(y_val)*100:.1f}%)\")\n",
    "\n",
    "print(f\"\\n✓ División balanceada completada exitosamente!\")"
   ]
  },
  {
   "cell_type": "markdown",
   "id": "0bd9b770",
   "metadata": {},
   "source": [
    "## 4. Configuración de Búsqueda de Hiperparámetros\n",
    "\n",
    "Definir la grilla de hiperparámetros y configurar GridSearchCV para LinearSVR."
   ]
  },
  {
   "cell_type": "code",
   "execution_count": 6,
   "id": "400d8651",
   "metadata": {},
   "outputs": [
    {
     "name": "stdout",
     "output_type": "stream",
     "text": [
      "CONFIGURACIÓN DE GRILLA DE HIPERPARÁMETROS\n",
      "==================================================\n",
      "Grilla de hiperparámetros definida:\n",
      "  • learning_rate: [0.01, 0.1, 0.2, 0.3]\n",
      "  • max_depth: [3, 5, 7, 9]\n",
      "  • min_child_weight: [1, 3, 5]\n",
      "  • subsample: [0.6, 0.8, 1.0]\n",
      "  • colsample_bytree: [0.6, 0.8, 1.0]\n",
      "  • n_estimators: [100, 200, 300]\n",
      "\n",
      "Total de combinaciones: 1,296\n",
      "Validación cruzada: 5 folds\n",
      "Total de entrenamientos: 6,480\n"
     ]
    }
   ],
   "source": [
    "# Configuración de la grilla de hiperparámetros para XgBoost\n",
    "print(\"CONFIGURACIÓN DE GRILLA DE HIPERPARÁMETROS\")\n",
    "print(\"=\" * 50)\n",
    "\n",
    "# Definir la grilla de hiperparámetros\n",
    "param_grid = {\n",
    "    'learning_rate': [0.01, 0.1, 0.2, 0.3],\n",
    "    'max_depth': [3, 5, 7, 9],\n",
    "    'min_child_weight': [1, 3, 5],\n",
    "    'subsample': [0.6, 0.8, 1.0],\n",
    "    'colsample_bytree': [0.6, 0.8, 1.0],\n",
    "    'n_estimators': [100, 200, 300]\n",
    "}\n",
    "\n",
    "print(f\"Grilla de hiperparámetros definida:\")\n",
    "total_combinations = 1\n",
    "for param, values in param_grid.items():\n",
    "    print(f\"  • {param}: {values}\")\n",
    "    total_combinations *= len(values)\n",
    "\n",
    "print(f\"\\nTotal de combinaciones: {total_combinations:,}\")\n",
    "\n",
    "# Configurar validación cruzada\n",
    "cv_folds = 5\n",
    "print(f\"Validación cruzada: {cv_folds} folds\")\n",
    "print(f\"Total de entrenamientos: {total_combinations * cv_folds:,}\")"
   ]
  },
  {
   "cell_type": "code",
   "execution_count": null,
   "id": "df26e670",
   "metadata": {},
   "outputs": [
    {
     "name": "stdout",
     "output_type": "stream",
     "text": [
      "CONFIGURACIÓN DE GRIDSEARCHCV\n",
      "==================================================\n",
      "✓ GridSearchCV configurado:\n",
      "  • Estimador: XGBoost Classifier\n",
      "  • Métrica de scoring: f1\n",
      "  • Folds de CV: 5\n",
      "  • Paralelización: Todos los cores disponibles\n",
      "  • Total de evaluaciones: 6,480\n",
      "\n",
      "🚀 Listo para ejecutar búsqueda de hiperparámetros...\n"
     ]
    }
   ],
   "source": [
    "# Configurar GridSearchCV\n",
    "print(\"CONFIGURACIÓN DE GRIDSEARCHCV\")\n",
    "print(\"=\" * 50)\n",
    "\n",
    "# Crear el modelo base\n",
    "xgb_model = xgb.XGBClassifier()\n",
    "\n",
    "# Configurar GridSearchCV\n",
    "grid_search = GridSearchCV(\n",
    "    estimator=xgb_model,\n",
    "    param_grid=param_grid,\n",
    "    cv=cv_folds,\n",
    "    scoring='f1',  # Métrica principal para optimización\n",
    "    n_jobs=-1,  # Usar todos los cores disponibles\n",
    "    verbose=1,  # Mostrar progreso\n",
    "    return_train_score=True\n",
    ")\n",
    "\n",
    "print(f\"✓ GridSearchCV configurado:\")\n",
    "print(f\"  • Estimador: XGBoost Classifier\")\n",
    "print(f\"  • Métrica de scoring: f1\")\n",
    "print(f\"  • Folds de CV: {cv_folds}\")\n",
    "print(f\"  • Paralelización: Todos los cores disponibles\")\n",
    "print(f\"  • Total de evaluaciones: {total_combinations * cv_folds:,}\")\n",
    "\n",
    "print(f\"\\n🚀 Listo para ejecutar búsqueda de hiperparámetros...\")"
   ]
  },
  {
   "cell_type": "markdown",
   "id": "b8008aef",
   "metadata": {},
   "source": [
    "## 5. Ejecución de Búsqueda de Hiperparámetros\n",
    "\n",
    "Ejecutar GridSearchCV para encontrar los mejores hiperparámetros."
   ]
  },
  {
   "cell_type": "code",
   "execution_count": 8,
   "id": "2ee0c9ad",
   "metadata": {},
   "outputs": [
    {
     "name": "stdout",
     "output_type": "stream",
     "text": [
      "🔍 INICIANDO BÚSQUEDA DE HIPERPARÁMETROS\n",
      "==================================================\n",
      "Inicio: 2025-09-06 16:17:11\n",
      "Esto puede tomar varios minutos...\n",
      "\n",
      "Fitting 5 folds for each of 1296 candidates, totalling 6480 fits\n",
      "\n",
      "✓ Búsqueda de hiperparámetros completada!\n",
      "Tiempo total: 0:14:06.071128\n",
      "Fin: 2025-09-06 16:31:17\n"
     ]
    }
   ],
   "source": [
    "# Ejecutar búsqueda de hiperparámetros\n",
    "print(\"🔍 INICIANDO BÚSQUEDA DE HIPERPARÁMETROS\")\n",
    "print(\"=\" * 50)\n",
    "print(f\"Inicio: {datetime.now().strftime('%Y-%m-%d %H:%M:%S')}\")\n",
    "print(\"Esto puede tomar varios minutos...\\n\")\n",
    "\n",
    "# Ejecutar grid search\n",
    "start_time = datetime.now()\n",
    "grid_search.fit(X_train, y_train)\n",
    "end_time = datetime.now()\n",
    "\n",
    "duration = end_time - start_time\n",
    "print(f\"\\n✓ Búsqueda de hiperparámetros completada!\")\n",
    "print(f\"Tiempo total: {duration}\")\n",
    "print(f\"Fin: {end_time.strftime('%Y-%m-%d %H:%M:%S')}\")"
   ]
  },
  {
   "cell_type": "code",
   "execution_count": 9,
   "id": "1c71ce79",
   "metadata": {},
   "outputs": [
    {
     "name": "stdout",
     "output_type": "stream",
     "text": [
      "RESULTADOS DE LA BÚSQUEDA DE HIPERPARÁMETROS\n",
      "==================================================\n",
      "Mejores hiperparámetros encontrados:\n",
      "  • colsample_bytree: 0.6\n",
      "  • learning_rate: 0.3\n",
      "  • max_depth: 9\n",
      "  • min_child_weight: 1\n",
      "  • n_estimators: 300\n",
      "  • subsample: 1.0\n",
      "\n",
      "Mejor score (CV): 0.854243 (F1)\n",
      "\n",
      "✓ Mejor modelo obtenido y listo para evaluación\n"
     ]
    }
   ],
   "source": [
    "# Analizar resultados de la búsqueda\n",
    "print(\"RESULTADOS DE LA BÚSQUEDA DE HIPERPARÁMETROS\")\n",
    "print(\"=\" * 50)\n",
    "\n",
    "# Mejores hiperparámetros\n",
    "print(f\"Mejores hiperparámetros encontrados:\")\n",
    "for param, value in grid_search.best_params_.items():\n",
    "    print(f\"  • {param}: {value}\")\n",
    "\n",
    "print(f\"\\nMejor score (CV): {grid_search.best_score_:.6f} (F1)\")\n",
    "\n",
    "# Obtener el mejor modelo\n",
    "best_model = grid_search.best_estimator_\n",
    "print(f\"\\n✓ Mejor modelo obtenido y listo para evaluación\")"
   ]
  },
  {
   "cell_type": "markdown",
   "id": "34c51eee",
   "metadata": {},
   "source": [
    "## 7. Análisis de los Top 3 Modelos\n",
    "\n",
    "Analizar y comparar las métricas de los 3 mejores modelos encontrados."
   ]
  },
  {
   "cell_type": "code",
   "execution_count": 10,
   "id": "b909a419",
   "metadata": {},
   "outputs": [
    {
     "name": "stdout",
     "output_type": "stream",
     "text": [
      "ANÁLISIS DE LOS TOP 3 MODELOS\n",
      "==================================================\n",
      "Top 3 configuraciones de hiperparámetros:\n",
      "========================================\n",
      "\n",
      "Modelo #1:\n",
      "  F1 Score: 0.854243 (±0.001965)\n",
      "  Parámetros: {'colsample_bytree': 0.6, 'learning_rate': 0.3, 'max_depth': 9, 'min_child_weight': 1, 'n_estimators': 300, 'subsample': 1.0}\n",
      "\n",
      "Modelo #2:\n",
      "  F1 Score: 0.853100 (±0.001562)\n",
      "  Parámetros: {'colsample_bytree': 0.8, 'learning_rate': 0.2, 'max_depth': 9, 'min_child_weight': 1, 'n_estimators': 300, 'subsample': 1.0}\n",
      "\n",
      "Modelo #3:\n",
      "  F1 Score: 0.853013 (±0.002070)\n",
      "  Parámetros: {'colsample_bytree': 0.8, 'learning_rate': 0.3, 'max_depth': 9, 'min_child_weight': 1, 'n_estimators': 300, 'subsample': 1.0}\n",
      "\n",
      "✓ Top 3 modelos entrenados y listos para evaluación\n"
     ]
    }
   ],
   "source": [
    "# Obtener los top 3 modelos\n",
    "print(\"ANÁLISIS DE LOS TOP 3 MODELOS\")\n",
    "print(\"=\" * 50)\n",
    "\n",
    "# Crear DataFrame con todos los resultados\n",
    "results_df = pd.DataFrame(grid_search.cv_results_)\n",
    "\n",
    "# Ordenar por mejor score y obtener top 3\n",
    "top_3_results = results_df.nlargest(3, 'mean_test_score')\n",
    "\n",
    "print(f\"Top 3 configuraciones de hiperparámetros:\")\n",
    "print(\"=\" * 40)\n",
    "\n",
    "top_3_models = []\n",
    "top_3_params = []\n",
    "\n",
    "for i, (idx, row) in enumerate(top_3_results.iterrows(), 1):\n",
    "    params = row['params']\n",
    "    score = row['mean_test_score']\n",
    "    std = row['std_test_score']\n",
    "    \n",
    "    print(f\"\\nModelo #{i}:\")\n",
    "    print(f\"  F1 Score: {score:.6f} (±{std:.6f})\")\n",
    "    print(f\"  Parámetros: {params}\")\n",
    "    \n",
    "    # Crear y entrenar el modelo con estos parámetros\n",
    "    model = xgb.XGBClassifier(random_state=42, **params)\n",
    "    model.fit(X_train, y_train)\n",
    "    top_3_models.append(model)\n",
    "    top_3_params.append(params)\n",
    "\n",
    "print(f\"\\n✓ Top 3 modelos entrenados y listos para evaluación\")"
   ]
  },
  {
   "cell_type": "markdown",
   "id": "118ebf0a",
   "metadata": {},
   "source": [
    "## 8. Evaluación de Métricas de Clasificación\n",
    "\n",
    "Calcular y comparar métricas de clasificación para los top 3 modelos en el conjunto de validación."
   ]
  },
  {
   "cell_type": "code",
   "execution_count": 11,
   "id": "1854f12b",
   "metadata": {},
   "outputs": [
    {
     "name": "stdout",
     "output_type": "stream",
     "text": [
      "EVALUACIÓN DE MÉTRICAS EN CONJUNTO DE VALIDACIÓN\n",
      "==================================================\n",
      "\n",
      "Modelo #1 - Métricas en Validación:\n",
      "  • Precision: 0.852087\n",
      "  • Recall: 0.859665\n",
      "  • F1 Score: 0.855859\n",
      "  • ROC AUC: 0.835285\n",
      "  • Accuracy: 0.838158\n",
      "\n",
      "Modelo #2 - Métricas en Validación:\n",
      "  • Precision: 0.848765\n",
      "  • Recall: 0.863196\n",
      "  • F1 Score: 0.855920\n",
      "  • ROC AUC: 0.834150\n",
      "  • Accuracy: 0.837573\n",
      "\n",
      "Modelo #3 - Métricas en Validación:\n",
      "  • Precision: 0.853769\n",
      "  • Recall: 0.860581\n",
      "  • F1 Score: 0.857161\n",
      "  • ROC AUC: 0.836903\n",
      "  • Accuracy: 0.839693\n",
      "\n",
      "✓ Métricas calculadas para todos los modelos\n"
     ]
    }
   ],
   "source": [
    "# Calcular métricas para los top 3 modelos\n",
    "print(\"EVALUACIÓN DE MÉTRICAS EN CONJUNTO DE VALIDACIÓN\")\n",
    "print(\"=\" * 50)\n",
    "\n",
    "metrics_results = []\n",
    "\n",
    "for i, model in enumerate(top_3_models, 1):\n",
    "    # Predicciones en conjunto de validación\n",
    "    y_pred = model.predict(X_val)\n",
    "    \n",
    "    # Calcular métricas de clasificación\n",
    "    precision = precision_score(y_val, y_pred)\n",
    "    recall = recall_score(y_val, y_pred)\n",
    "    f1 = f1_score(y_val, y_pred)\n",
    "    roc_auc = roc_auc_score(y_val, y_pred)\n",
    "    \n",
    "    # Para accuracy, convertir predicciones a clases binarias\n",
    "    y_pred_binary = (y_pred > 0.5).astype(int)\n",
    "    accuracy = accuracy_score(y_val, y_pred)\n",
    "    \n",
    "    # Guardar resultados\n",
    "    metrics = {\n",
    "        'Modelo': f'Modelo #{i}',\n",
    "        'Precision': precision,\n",
    "        'Recall': recall,\n",
    "        'F1 Score': f1,\n",
    "        'ROC AUC': roc_auc,\n",
    "        'Accuracy': accuracy,\n",
    "        'Parámetros': str(top_3_params[i-1])\n",
    "    }\n",
    "    metrics_results.append(metrics)\n",
    "    \n",
    "    print(f\"\\nModelo #{i} - Métricas en Validación:\")\n",
    "    print(f\"  • Precision: {precision:.6f}\")\n",
    "    print(f\"  • Recall: {recall:.6f}\")\n",
    "    print(f\"  • F1 Score: {f1:.6f}\")\n",
    "    print(f\"  • ROC AUC: {roc_auc:.6f}\")\n",
    "    print(f\"  • Accuracy: {accuracy:.6f}\")\n",
    "\n",
    "# Crear DataFrame con todas las métricas\n",
    "metrics_df = pd.DataFrame(metrics_results)\n",
    "print(f\"\\n✓ Métricas calculadas para todos los modelos\")"
   ]
  },
  {
   "cell_type": "markdown",
   "id": "09a838c2",
   "metadata": {},
   "source": [
    "## 9. Visualización de Métricas de Clasificación\n",
    "\n",
    "Crear gráficos comparativos de las métricas de clasificación para los top 3 modelos."
   ]
  },
  {
   "cell_type": "code",
   "execution_count": 12,
   "id": "1763e2a9",
   "metadata": {},
   "outputs": [
    {
     "name": "stdout",
     "output_type": "stream",
     "text": [
      "CREANDO VISUALIZACIONES DE MÉTRICAS\n",
      "==================================================\n"
     ]
    },
    {
     "data": {
      "image/png": "[encoded data removed]",
      "text/plain": [
       "<Figure size 1800x1200 with 6 Axes>"
      ]
     },
     "metadata": {},
     "output_type": "display_data"
    },
    {
     "name": "stdout",
     "output_type": "stream",
     "text": [
      "✓ Visualizaciones creadas exitosamente\n"
     ]
    }
   ],
   "source": [
    "# Crear visualizaciones de las métricas\n",
    "print(\"CREANDO VISUALIZACIONES DE MÉTRICAS\")\n",
    "print(\"=\" * 50)\n",
    "\n",
    "# Configurar el tamaño de la figura\n",
    "fig, axes = plt.subplots(2, 3, figsize=(18, 12))\n",
    "fig.suptitle('Comparación de Métricas de Clasificación - Top 3 Modelos XGBoost', \n",
    "             fontsize=16, fontweight='bold')\n",
    "\n",
    "# Definir métricas para visualizar\n",
    "metrics_to_plot = ['F1 Score', 'ROC AUC', 'Accuracy', 'Precision', 'Recall']\n",
    "colors = ['skyblue', 'lightcoral', 'lightgreen']\n",
    "\n",
    "# Crear gráfico para cada métrica\n",
    "for idx, metric in enumerate(metrics_to_plot):\n",
    "    row = idx // 3\n",
    "    col = idx % 3\n",
    "    ax = axes[row, col]\n",
    "    \n",
    "    # Extraer valores de la métrica\n",
    "    values = [metrics_results[i][metric] for i in range(3)]\n",
    "    models = [f'Modelo #{i+1}' for i in range(3)]\n",
    "    \n",
    "    # Crear gráfico de barras\n",
    "    bars = ax.bar(models, values, color=colors, alpha=0.7, edgecolor='black')\n",
    "    \n",
    "    # Configurar el gráfico\n",
    "    ax.set_title(f'{metric}', fontsize=12, fontweight='bold')\n",
    "    ax.set_ylabel(metric)\n",
    "    ax.grid(True, alpha=0.3)\n",
    "    \n",
    "    # Añadir valores en las barras\n",
    "    for bar, value in zip(bars, values):\n",
    "        height = bar.get_height()\n",
    "        ax.text(bar.get_x() + bar.get_width()/2., height,\n",
    "                f'{value:.4f}', ha='center', va='bottom', fontsize=10)\n",
    "    \n",
    "    # Ajustar límites para mejor visualización\n",
    "    if metric in ['R²', 'Explained Variance', 'Accuracy']:\n",
    "        ax.set_ylim(0, 1)\n",
    "    else:\n",
    "        ax.set_ylim(0, max(values) * 1.1)\n",
    "\n",
    "plt.tight_layout()\n",
    "plt.show()\n",
    "\n",
    "print(\"✓ Visualizaciones creadas exitosamente\")"
   ]
  },
  {
   "cell_type": "code",
   "execution_count": 13,
   "id": "cbd33d32",
   "metadata": {},
   "outputs": [
    {
     "name": "stdout",
     "output_type": "stream",
     "text": [
      "TABLA COMPARATIVA DE MÉTRICAS\n",
      "==================================================\n",
      "Resumen de métricas para los top 3 modelos:\n"
     ]
    },
    {
     "data": {
      "text/html": [
       "<div>\n",
       "<style scoped>\n",
       "    .dataframe tbody tr th:only-of-type {\n",
       "        vertical-align: middle;\n",
       "    }\n",
       "\n",
       "    .dataframe tbody tr th {\n",
       "        vertical-align: top;\n",
       "    }\n",
       "\n",
       "    .dataframe thead th {\n",
       "        text-align: right;\n",
       "    }\n",
       "</style>\n",
       "<table border=\"1\" class=\"dataframe\">\n",
       "  <thead>\n",
       "    <tr style=\"text-align: right;\">\n",
       "      <th></th>\n",
       "      <th>Modelo</th>\n",
       "      <th>F1 Score</th>\n",
       "      <th>ROC AUC</th>\n",
       "      <th>Accuracy</th>\n",
       "      <th>Precision</th>\n",
       "      <th>Recall</th>\n",
       "    </tr>\n",
       "  </thead>\n",
       "  <tbody>\n",
       "    <tr>\n",
       "      <th>0</th>\n",
       "      <td>Modelo #1</td>\n",
       "      <td>0.855859</td>\n",
       "      <td>0.835285</td>\n",
       "      <td>0.838158</td>\n",
       "      <td>0.852087</td>\n",
       "      <td>0.859665</td>\n",
       "    </tr>\n",
       "    <tr>\n",
       "      <th>1</th>\n",
       "      <td>Modelo #2</td>\n",
       "      <td>0.855920</td>\n",
       "      <td>0.834150</td>\n",
       "      <td>0.837573</td>\n",
       "      <td>0.848765</td>\n",
       "      <td>0.863196</td>\n",
       "    </tr>\n",
       "    <tr>\n",
       "      <th>2</th>\n",
       "      <td>Modelo #3</td>\n",
       "      <td>0.857161</td>\n",
       "      <td>0.836903</td>\n",
       "      <td>0.839693</td>\n",
       "      <td>0.853769</td>\n",
       "      <td>0.860581</td>\n",
       "    </tr>\n",
       "  </tbody>\n",
       "</table>\n",
       "</div>"
      ],
      "text/plain": [
       "      Modelo  F1 Score   ROC AUC  Accuracy  Precision    Recall\n",
       "0  Modelo #1  0.855859  0.835285  0.838158   0.852087  0.859665\n",
       "1  Modelo #2  0.855920  0.834150  0.837573   0.848765  0.863196\n",
       "2  Modelo #3  0.857161  0.836903  0.839693   0.853769  0.860581"
      ]
     },
     "metadata": {},
     "output_type": "display_data"
    },
    {
     "name": "stdout",
     "output_type": "stream",
     "text": [
      "\n",
      "Mejor modelo por métrica:\n",
      "------------------------------\n",
      "• F1 Score: Modelo #3 (0.857161)\n",
      "• ROC AUC: Modelo #3 (0.836903)\n",
      "• Accuracy: Modelo #3 (0.839693)\n",
      "• Precision: Modelo #3 (0.853769)\n",
      "• Recall: Modelo #2 (0.863196)\n"
     ]
    }
   ],
   "source": [
    "# Crear tabla comparativa de métricas\n",
    "print(\"TABLA COMPARATIVA DE MÉTRICAS\")\n",
    "print(\"=\" * 50)\n",
    "\n",
    "# Mostrar tabla con métricas\n",
    "\n",
    "display_df = metrics_df[['Modelo', 'F1 Score', 'ROC AUC', 'Accuracy', 'Precision', 'Recall']].copy()\n",
    "\n",
    "# Formatear números para mejor lectura\n",
    "for col in ['F1 Score', 'ROC AUC', 'Accuracy', 'Precision', 'Recall']:\n",
    "    display_df[col] = display_df[col].round(6)\n",
    "\n",
    "print(\"Resumen de métricas para los top 3 modelos:\")\n",
    "display(display_df)\n",
    "\n",
    "# Identificar el mejor modelo para cada métrica\n",
    "print(\"\\nMejor modelo por métrica:\")\n",
    "print(\"-\" * 30)\n",
    "for metric in ['F1 Score', 'ROC AUC', 'Accuracy', 'Precision', 'Recall']:\n",
    "    if metric in ['F1 Score', 'ROC AUC', 'Accuracy', 'Precision', 'Recall']:  # Mayor es mejor\n",
    "        best_idx = display_df[metric].idxmax()\n",
    "    else:  # Menor es mejor\n",
    "        best_idx = display_df[metric].idxmin()\n",
    "    \n",
    "    best_model = display_df.loc[best_idx, 'Modelo']\n",
    "    best_value = display_df.loc[best_idx, metric]\n",
    "    print(f\"• {metric}: {best_model} ({best_value:.6f})\")"
   ]
  },
  {
   "cell_type": "markdown",
   "id": "796af19d",
   "metadata": {},
   "source": [
    "## 10. Análisis de Validación Cruzada\n",
    "\n",
    "Realizar validación cruzada adicional en el mejor modelo para verificar su robustez."
   ]
  },
  {
   "cell_type": "code",
   "execution_count": 14,
   "id": "a3ba5627",
   "metadata": {},
   "outputs": [
    {
     "name": "stdout",
     "output_type": "stream",
     "text": [
      "VALIDACIÓN CRUZADA DEL MEJOR MODELO\n",
      "==================================================\n",
      "F1 Score:\n",
      "  • Media: 0.853301\n",
      "  • Desviación estándar: 0.001623\n",
      "  • Rango: [0.850773, 0.855752]\n",
      "\n",
      "ROC AUC:\n",
      "  • Media: 0.910120\n",
      "  • Desviación estándar: 0.001313\n",
      "  • Rango: [0.907657, 0.911575]\n",
      "\n",
      "Accuracy:\n",
      "  • Media: 0.835124\n",
      "  • Desviación estándar: 0.001673\n",
      "  • Rango: [0.832495, 0.837590]\n",
      "\n",
      "Precision:\n",
      "  • Media: 0.847419\n",
      "  • Desviación estándar: 0.001256\n",
      "  • Rango: [0.845918, 0.848966]\n",
      "\n",
      "Recall:\n",
      "  • Media: 0.859270\n",
      "  • Desviación estándar: 0.002673\n",
      "  • Rango: [0.855640, 0.863269]\n",
      "\n",
      "✓ Validación cruzada completada\n",
      "El modelo muestra alta estabilidad\n"
     ]
    }
   ],
   "source": [
    "# Validación cruzada del mejor modelo\n",
    "print(\"VALIDACIÓN CRUZADA DEL MEJOR MODELO\")\n",
    "print(\"=\" * 50)\n",
    "\n",
    "best_model = top_3_models[0]  # El primer modelo ya es el mejor\n",
    "\n",
    "# Definir métricas para validación cruzada\n",
    "cv_metrics = {\n",
    "    'f1': 'F1 Score',\n",
    "    'roc_auc': 'ROC AUC',\n",
    "    'accuracy': 'Accuracy',\n",
    "    'precision': 'Precision',\n",
    "    'recall': 'Recall'\n",
    "}\n",
    "\n",
    "cv_results = {}\n",
    "\n",
    "for scoring, metric_name in cv_metrics.items():\n",
    "    scores = cross_val_score(best_model, X_train, y_train, \n",
    "                           cv=cv_folds, scoring=scoring)\n",
    "    \n",
    "    # Para métricas negativas, convertir a positivas\n",
    "    if 'neg_' in scoring:\n",
    "        scores = -scores\n",
    "    \n",
    "    cv_results[metric_name] = scores\n",
    "    \n",
    "    print(f\"{metric_name}:\")\n",
    "    print(f\"  • Media: {scores.mean():.6f}\")\n",
    "    print(f\"  • Desviación estándar: {scores.std():.6f}\")\n",
    "    print(f\"  • Rango: [{scores.min():.6f}, {scores.max():.6f}]\")\n",
    "    print()\n",
    "\n",
    "print(f\"✓ Validación cruzada completada\")\n",
    "print(f\"El modelo muestra {'alta' if max([cv_results[m].std() for m in cv_results]) < 0.1 else 'moderada'} estabilidad\")"
   ]
  },
  {
   "cell_type": "code",
   "execution_count": 15,
   "id": "ac3ba7f8",
   "metadata": {},
   "outputs": [
    {
     "name": "stdout",
     "output_type": "stream",
     "text": [
      "DIAGRAMA DE MATRIZ DE CONFUSIÓN\n",
      "==================================================\n"
     ]
    },
    {
     "data": {
      "image/png": "[encoded data removed]",
      "text/plain": [
       "<Figure size 600x500 with 1 Axes>"
      ]
     },
     "metadata": {},
     "output_type": "display_data"
    },
    {
     "name": "stdout",
     "output_type": "stream",
     "text": [
      "Reporte de Clasificación:\n",
      "              precision    recall  f1-score   support\n",
      "\n",
      "  No Popular       0.82      0.81      0.82      6034\n",
      "     Popular       0.85      0.86      0.86      7646\n",
      "\n",
      "    accuracy                           0.84     13680\n",
      "   macro avg       0.84      0.84      0.84     13680\n",
      "weighted avg       0.84      0.84      0.84     13680\n",
      "\n"
     ]
    }
   ],
   "source": [
    "# Diagrama matriz de confusión\n",
    "print(\"DIAGRAMA DE MATRIZ DE CONFUSIÓN\")\n",
    "print(\"=\" * 50)\n",
    "# --- IGNORE ---\n",
    "y_val_pred = best_model.predict(X_val)\n",
    "cm = confusion_matrix(y_val, y_val_pred)\n",
    "plt.figure(figsize=(6, 5))\n",
    "sns.heatmap(cm, annot=True, fmt='d', cmap='Blues', cbar=False)\n",
    "plt.title('Matriz de Confusión - Mejor Modelo XGBoost', fontsize=14, fontweight='bold')\n",
    "plt.xlabel('Predicción', fontsize=12)\n",
    "plt.ylabel('Verdadero', fontsize=12)\n",
    "plt.xticks(ticks=[0.5, 1.5], labels=['No Popular', 'Popular'])\n",
    "plt.yticks(ticks=[0.5, 1.5], labels=['No Popular', 'Popular'], rotation=0)\n",
    "plt.show()\n",
    "# --- IGNORE ---\n",
    "# Imprimir reporte de clasificación\n",
    "print(\"Reporte de Clasificación:\")\n",
    "print(classification_report(y_val, y_val_pred, target_names=['No Popular', 'Popular']))"
   ]
  },
  {
   "cell_type": "markdown",
   "id": "429750f3",
   "metadata": {},
   "source": [
    "## 11. Guardar Resultados y Modelos\n",
    "\n",
    "Guardar el mejor modelo y los resultados de la búsqueda de hiperparámetros."
   ]
  },
  {
   "cell_type": "code",
   "execution_count": 16,
   "id": "13f2cd89",
   "metadata": {},
   "outputs": [
    {
     "name": "stdout",
     "output_type": "stream",
     "text": [
      "GUARDANDO RESULTADOS Y MODELOS\n",
      "==================================================\n",
      "✓ Mejor modelo guardado: ../models/xgboost_classifier_results/best_xgboost_classifier_model.joblib\n",
      "✓ Modelo #1 guardado: ../models/xgboost_classifier_results/top_1_model.joblib\n",
      "✓ Modelo #2 guardado: ../models/xgboost_classifier_results/top_2_model.joblib\n",
      "✓ Modelo #3 guardado: ../models/xgboost_classifier_results/top_3_model.joblib\n",
      "✓ Resultados de Grid Search guardados: ../models/xgboost_classifier_results/grid_search_results.joblib\n",
      "✓ Métricas guardadas: ../models/xgboost_classifier_results/model_metrics.csv\n",
      "✓ Resumen del experimento guardado: ../models/xgboost_classifier_results/experiment_summary.json\n"
     ]
    }
   ],
   "source": [
    "# Guardar resultados y modelos\n",
    "print(\"GUARDANDO RESULTADOS Y MODELOS\")\n",
    "print(\"=\" * 50)\n",
    "\n",
    "# Crear directorio para resultados\n",
    "import os\n",
    "results_dir = '../models/xgboost_classifier_results'\n",
    "os.makedirs(results_dir, exist_ok=True)\n",
    "\n",
    "# Guardar el mejor modelo\n",
    "best_model_path = os.path.join(results_dir, 'best_xgboost_classifier_model.joblib')\n",
    "joblib.dump(best_model, best_model_path)\n",
    "print(f\"✓ Mejor modelo guardado: {best_model_path}\")\n",
    "\n",
    "# Guardar todos los top 3 modelos\n",
    "for i, model in enumerate(top_3_models, 1):\n",
    "    model_path = os.path.join(results_dir, f'top_{i}_model.joblib')\n",
    "    joblib.dump(model, model_path)\n",
    "    print(f\"✓ Modelo #{i} guardado: {model_path}\")\n",
    "\n",
    "# Guardar resultados de grid search\n",
    "grid_results_path = os.path.join(results_dir, 'grid_search_results.joblib')\n",
    "joblib.dump(grid_search, grid_results_path)\n",
    "print(f\"✓ Resultados de Grid Search guardados: {grid_results_path}\")\n",
    "\n",
    "# Guardar métricas en CSV\n",
    "metrics_path = os.path.join(results_dir, 'model_metrics.csv')\n",
    "metrics_df.to_csv(metrics_path, index=False)\n",
    "print(f\"✓ Métricas guardadas: {metrics_path}\")\n",
    "\n",
    "# Crear resumen del experimento\n",
    "experiment_summary = {\n",
    "    'timestamp': datetime.now().strftime('%Y-%m-%d %H:%M:%S'),\n",
    "    'algorithm': 'XGBoost Classifier',\n",
    "    'original_dataset_size': len(X_train_full),\n",
    "    'training_size': len(X_train),\n",
    "    'validation_size': len(X_val),\n",
    "    'features_count': X_train.shape[1],\n",
    "    'cv_folds': cv_folds,\n",
    "    'total_combinations_tested': total_combinations,\n",
    "    'best_params': grid_search.best_params_,\n",
    "    'best_cv_score': float(grid_search.best_score_),\n",
    "    'search_duration': str(duration)\n",
    "}\n",
    "\n",
    "summary_path = os.path.join(results_dir, 'experiment_summary.json')\n",
    "import json\n",
    "with open(summary_path, 'w') as f:\n",
    "    json.dump(experiment_summary, f, indent=2)\n",
    "print(f\"✓ Resumen del experimento guardado: {summary_path}\")"
   ]
  },
  {
   "cell_type": "markdown",
   "id": "0b0a42e8",
   "metadata": {},
   "source": [
    "## 12. Resumen Final\n",
    "\n",
    "Resumen completo del experimento de búsqueda de hiperparámetros."
   ]
  },
  {
   "cell_type": "code",
   "execution_count": 25,
   "id": "7a92c8cb",
   "metadata": {},
   "outputs": [
    {
     "name": "stdout",
     "output_type": "stream",
     "text": [
      "🎉 EXPERIMENTO DE BÚSQUEDA DE HIPERPARÁMETROS COMPLETADO\n",
      "============================================================\n",
      "📊 ESTADÍSTICAS DEL EXPERIMENTO:\n",
      "  • Algoritmo utilizado: XGBoost Classifier\n",
      "  • Dataset original: 91,199 registros\n",
      "  • Conjunto de entrenamiento: 77,519 registros\n",
      "  • Conjunto de validación: 13,680 registros\n",
      "  • Número de características: 18\n",
      "\n",
      "🔍 BÚSQUEDA DE HIPERPARÁMETROS:\n",
      "  • Combinaciones evaluadas: 1,296\n",
      "  • Folds de validación cruzada: 5\n",
      "  • Total de entrenamientos: 6,480\n",
      "  • Tiempo total de búsqueda: 0:14:06.071128\n",
      "\n",
      "🏆 MEJORES RESULTADOS:\n",
      "  • Mejores hiperparámetros: {'colsample_bytree': 0.6, 'learning_rate': 0.3, 'max_depth': 9, 'min_child_weight': 1, 'n_estimators': 300, 'subsample': 1.0}\n",
      "  • Mejor CV Score (F1): 0.854243\n",
      "\n",
      "📈 MÉTRICAS EN VALIDACIÓN (MEJOR MODELO):\n",
      "  • F1 Score: 0.855859\n",
      "  • ROC AUC: 0.835285\n",
      "  • Precision: 0.852087\n",
      "  • Recall: 0.859665\n",
      "  • Accuracy: 0.838158\n",
      "\n",
      "💾 ARCHIVOS GENERADOS:\n",
      "  • Mejor modelo: ../models/xgboost_classifier_results/best_xgboost_classifier_model.joblib\n",
      "  • Top 3 modelos: ../models/xgboost_classifier_results/top_*_model.joblib\n",
      "  • Resultados completos: ../models/xgboost_classifier_results/grid_search_results.joblib\n",
      "  • Métricas: ../models/xgboost_classifier_results/model_metrics.csv\n",
      "  • Resumen: ../models/xgboost_classifier_results/experiment_summary.json\n",
      "\n",
      "✅ Experimento completado exitosamente!\n",
      "✅ El modelo está listo para implementación en producción!\n"
     ]
    }
   ],
   "source": [
    "# Resumen final del experimento\n",
    "print(\"🎉 EXPERIMENTO DE BÚSQUEDA DE HIPERPARÁMETROS COMPLETADO\")\n",
    "print(\"=\" * 60)\n",
    "\n",
    "print(f\"📊 ESTADÍSTICAS DEL EXPERIMENTO:\")\n",
    "print(f\"  • Algoritmo utilizado: XGBoost Classifier\")\n",
    "print(f\"  • Dataset original: {len(X_train_full):,} registros\")\n",
    "print(f\"  • Conjunto de entrenamiento: {len(X_train):,} registros\")\n",
    "print(f\"  • Conjunto de validación: {len(X_val):,} registros\")\n",
    "print(f\"  • Número de características: {X_train.shape[1]}\")\n",
    "\n",
    "print(f\"\\n🔍 BÚSQUEDA DE HIPERPARÁMETROS:\")\n",
    "print(f\"  • Combinaciones evaluadas: {total_combinations:,}\")\n",
    "print(f\"  • Folds de validación cruzada: {cv_folds}\")\n",
    "print(f\"  • Total de entrenamientos: {total_combinations * cv_folds:,}\")\n",
    "print(f\"  • Tiempo total de búsqueda: {duration}\")\n",
    "\n",
    "print(f\"\\n🏆 MEJORES RESULTADOS:\")\n",
    "print(f\"  • Mejores hiperparámetros: {grid_search.best_params_}\")\n",
    "print(f\"  • Mejor CV Score (F1): {grid_search.best_score_:.6f}\")\n",
    "\n",
    "# Mostrar las mejores métricas en validación\n",
    "best_metrics = metrics_results[0]\n",
    "print(f\"\\n📈 MÉTRICAS EN VALIDACIÓN (MEJOR MODELO):\")\n",
    "print(f\"  • F1 Score: {best_metrics['F1 Score']:.6f}\")\n",
    "print(f\"  • ROC AUC: {best_metrics['ROC AUC']:.6f}\")\n",
    "print(f\"  • Precision: {best_metrics['Precision']:.6f}\")\n",
    "print(f\"  • Recall: {best_metrics['Recall']:.6f}\")\n",
    "print(f\"  • Accuracy: {best_metrics['Accuracy']:.6f}\")\n",
    "\n",
    "print(f\"\\n💾 ARCHIVOS GENERADOS:\")\n",
    "print(f\"  • Mejor modelo: {best_model_path}\")\n",
    "print(f\"  • Top 3 modelos: {results_dir}/top_*_model.joblib\")\n",
    "print(f\"  • Resultados completos: {grid_results_path}\")\n",
    "print(f\"  • Métricas: {metrics_path}\")\n",
    "print(f\"  • Resumen: {summary_path}\")\n",
    "\n",
    "print(f\"\\n✅ Experimento completado exitosamente!\")\n",
    "print(f\"✅ El modelo está listo para implementación en producción!\")"
   ]
  },
  {
   "cell_type": "code",
   "execution_count": 24,
   "id": "b792242e",
   "metadata": {},
   "outputs": [
    {
     "name": "stdout",
     "output_type": "stream",
     "text": [
      "🏃 View run Model_1 at: http://54.167.36.129:8050/#/experiments/860589367715753702/runs/42a051ffaa5345abb842d7a99cd5e1e9\n",
      "🧪 View experiment at: http://54.167.36.129:8050/#/experiments/860589367715753702\n",
      "🏃 View run Model_2 at: http://54.167.36.129:8050/#/experiments/860589367715753702/runs/451981546d38484ca926732577debd58\n",
      "🧪 View experiment at: http://54.167.36.129:8050/#/experiments/860589367715753702\n",
      "🏃 View run Model_3 at: http://54.167.36.129:8050/#/experiments/860589367715753702/runs/0f2f156dffad405281dfa244622670f9\n",
      "🧪 View experiment at: http://54.167.36.129:8050/#/experiments/860589367715753702\n",
      "✓ Métricas de los top 3 modelos registradas en MLflow\n",
      "🏃 View run XGBoost Top 3 Models Metrics at: http://54.167.36.129:8050/#/experiments/860589367715753702/runs/962e2843ca76450e8ea790c7b0a04eab\n",
      "🧪 View experiment at: http://54.167.36.129:8050/#/experiments/860589367715753702\n"
     ]
    }
   ],
   "source": [
    "import mlflow\n",
    "\n",
    "mlflow.set_tracking_uri(\"http://54.167.36.129:8050\")\n",
    "experiment = mlflow.set_experiment(\"XGBoost_Binary_Classifier_Experiment\")\n",
    "# Iniciar una nueva ejecución de MLflow\n",
    "with mlflow.start_run(experiment_id=experiment.experiment_id, run_name=\"XGBoost Top 3 Models Metrics\"):\n",
    "  for i, metrics in enumerate(metrics_results, 0):\n",
    "    with mlflow.start_run(nested=True, run_name=f\"Model_{i+1}\"):\n",
    "      # Registrar los parámetros del modelo\n",
    "      mlflow.log_params(top_3_params[i])\n",
    "      # Registrar las métricas principales\n",
    "      mlflow.log_metric(f\"Precision\", metrics['Precision'])\n",
    "      mlflow.log_metric(f\"Recall\", metrics['Recall'])\n",
    "      mlflow.log_metric(f\"F1_Score\", metrics['F1 Score'])\n",
    "      mlflow.log_metric(f\"ROC_AUC\", metrics['ROC AUC'])\n",
    "      mlflow.log_metric(f\"Accuracy\", metrics['Accuracy'])\n",
    "      # Registrar el modelo\n",
    "      mlflow.sklearn.log_model(top_3_models[i], input_example=X_val.iloc[[0]])\n",
    "  print(\"✓ Métricas de los top 3 modelos registradas en MLflow\")"
   ]
  },
  {
   "cell_type": "code",
   "execution_count": null,
   "id": "95a8b7a8",
   "metadata": {},
   "outputs": [],
   "source": []
  }
 ],
 "metadata": {
  "kernelspec": {
   "display_name": ".venv",
   "language": "python",
   "name": "python3"
  },
  "language_info": {
   "codemirror_mode": {
    "name": "ipython",
    "version": 3
   },
   "file_extension": ".py",
   "mimetype": "text/x-python",
   "name": "python",
   "nbconvert_exporter": "python",
   "pygments_lexer": "ipython3",
   "version": "3.13.7"
  }
 },
 "nbformat": 4,
 "nbformat_minor": 5
}
